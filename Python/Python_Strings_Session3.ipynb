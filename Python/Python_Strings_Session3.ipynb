{
  "nbformat": 4,
  "nbformat_minor": 0,
  "metadata": {
    "colab": {
      "provenance": [],
      "name": "Python_Strings_Session3.ipynb",
      "authorship_tag": "ABX9TyOeo/bG6k99wLxelvhx/Cdt",
      "include_colab_link": true
    },
    "kernelspec": {
      "name": "python3",
      "display_name": "Python 3"
    },
    "language_info": {
      "name": "python"
    }
  },
  "cells": [
    {
      "cell_type": "markdown",
      "metadata": {
        "id": "view-in-github",
        "colab_type": "text"
      },
      "source": [
        "<a href=\"https://colab.research.google.com/github/Sejal-patel/DSMP/blob/master/Python/Python_Strings_Session3.ipynb\" target=\"_parent\"><img src=\"https://colab.research.google.com/assets/colab-badge.svg\" alt=\"Open In Colab\"/></a>"
      ]
    },
    {
      "cell_type": "code",
      "execution_count": null,
      "metadata": {
        "id": "QU_FHW1oEMgF"
      },
      "outputs": [],
      "source": [
        "import string"
      ]
    },
    {
      "cell_type": "markdown",
      "source": [
        "**Create string**"
      ],
      "metadata": {
        "id": "vqG4t3CkEhNc"
      }
    },
    {
      "cell_type": "code",
      "source": [
        "# create string\n",
        "str1 = 'Hey, I am str1'\n",
        "str2 = \"'Hey!! I am str2'\"\n",
        "str3 = \"Hey!! this is Sejal's notebook\"\n",
        "str4 = '''Hey!!\n",
        "I can write a story here.\n",
        "This is a multiline comments'''\n",
        "str5 = \"\"\"O hey!!\n",
        "What's up!!\"\"\"\n",
        "str6 = str('Hello')"
      ],
      "metadata": {
        "id": "7w6CbjxFEV-1"
      },
      "execution_count": null,
      "outputs": []
    },
    {
      "cell_type": "markdown",
      "source": [
        "**Access strings**"
      ],
      "metadata": {
        "id": "YGyvWrBfElPu"
      }
    },
    {
      "cell_type": "code",
      "source": [
        "print(str3[3])\n",
        "print(str3[3:-1])\n",
        "print(str3[::2])\n",
        "print(str3[len(str3)-1::-1])"
      ],
      "metadata": {
        "colab": {
          "base_uri": "https://localhost:8080/"
        },
        "id": "z4MhLRH6Edeu",
        "outputId": "93d1da48-9025-496e-edfd-9e2b523f51b6"
      },
      "execution_count": null,
      "outputs": [
        {
          "output_type": "stream",
          "name": "stdout",
          "text": [
            "!\n",
            "!! this is Sejal's noteboo\n",
            "Hy!ti sSjlsntbo\n",
            "koobeton s'lajeS si siht !!yeH\n"
          ]
        }
      ]
    },
    {
      "cell_type": "markdown",
      "source": [
        "**Update or Delete strings**\n",
        "\n",
        "As string is immutable, we cannot update or delete the characters of the string. Instead we can reassign the string variable with updated string.\n",
        "we can delete entire string."
      ],
      "metadata": {
        "id": "OLyWH5t0EoS1"
      }
    },
    {
      "cell_type": "code",
      "source": [
        "str1 = \"Hey!! this is Sejal's notebook\"\n",
        "str1 = \"Mey!! this is my notebook\"\n",
        "\n",
        "del str1"
      ],
      "metadata": {
        "id": "RWlxQJ2ZEsuT"
      },
      "execution_count": null,
      "outputs": []
    },
    {
      "cell_type": "markdown",
      "source": [
        "**Escape sequence**"
      ],
      "metadata": {
        "id": "uPI7XyeWEy6k"
      }
    },
    {
      "cell_type": "code",
      "source": [
        "str1 = \"This is \\x47\\x65\\x65\\x69\\x73 in \\x48\\x45\\x58\"\n",
        "print(str1)\n",
        "\n",
        "str2 = r''"
      ],
      "metadata": {
        "colab": {
          "base_uri": "https://localhost:8080/"
        },
        "id": "wcVjIKJTE6__",
        "outputId": "e2695a61-6d22-4046-8d55-4846790d3f7f"
      },
      "execution_count": null,
      "outputs": [
        {
          "output_type": "stream",
          "name": "stdout",
          "text": [
            "This is Geeis in HEX\n"
          ]
        }
      ]
    },
    {
      "cell_type": "markdown",
      "source": [
        "# String formating"
      ],
      "metadata": {
        "id": "BMCenBKIEtxO"
      }
    },
    {
      "cell_type": "code",
      "source": [
        "str1 = \"I am learning {} from {}\"\n",
        "str1.format('Python','GFG')\n",
        "print(str1)"
      ],
      "metadata": {
        "colab": {
          "base_uri": "https://localhost:8080/"
        },
        "id": "rQiLYgk7EyXl",
        "outputId": "1c5d4d9b-7b30-48db-8ff9-d2508fbd49e2"
      },
      "execution_count": null,
      "outputs": [
        {
          "output_type": "stream",
          "name": "stdout",
          "text": [
            "I am learning {} from {}\n"
          ]
        }
      ]
    },
    {
      "cell_type": "code",
      "source": [
        "str2 = \"\""
      ],
      "metadata": {
        "id": "bME5nFXRVJZp"
      },
      "execution_count": null,
      "outputs": []
    },
    {
      "cell_type": "code",
      "source": [],
      "metadata": {
        "id": "fYH-vYe0VJwY"
      },
      "execution_count": null,
      "outputs": []
    },
    {
      "cell_type": "code",
      "source": [],
      "metadata": {
        "id": "BIQV-UwaVJ-w"
      },
      "execution_count": null,
      "outputs": []
    },
    {
      "cell_type": "code",
      "source": [],
      "metadata": {
        "id": "ohTThfN8VKLZ"
      },
      "execution_count": null,
      "outputs": []
    },
    {
      "cell_type": "markdown",
      "source": [
        "# Python docstrings"
      ],
      "metadata": {
        "id": "7KQaAESmE8Dj"
      }
    },
    {
      "cell_type": "code",
      "source": [],
      "metadata": {
        "id": "pq8lVv1iVIB0"
      },
      "execution_count": null,
      "outputs": []
    },
    {
      "cell_type": "code",
      "source": [],
      "metadata": {
        "id": "Pkva59o_E8hK"
      },
      "execution_count": null,
      "outputs": []
    },
    {
      "cell_type": "markdown",
      "source": [
        "# String constants"
      ],
      "metadata": {
        "id": "6eOV--9dFGZQ"
      }
    },
    {
      "cell_type": "code",
      "source": [
        "string.ascii_letters"
      ],
      "metadata": {
        "colab": {
          "base_uri": "https://localhost:8080/",
          "height": 35
        },
        "id": "Cfl5gyNmFJf7",
        "outputId": "e7208219-881d-4518-ae16-808be54c52c6"
      },
      "execution_count": null,
      "outputs": [
        {
          "output_type": "execute_result",
          "data": {
            "text/plain": [
              "'abcdefghijklmnopqrstuvwxyzABCDEFGHIJKLMNOPQRSTUVWXYZ'"
            ],
            "application/vnd.google.colaboratory.intrinsic+json": {
              "type": "string"
            }
          },
          "metadata": {},
          "execution_count": 18
        }
      ]
    },
    {
      "cell_type": "code",
      "source": [
        "string.ascii_lowercase"
      ],
      "metadata": {
        "colab": {
          "base_uri": "https://localhost:8080/",
          "height": 35
        },
        "id": "F7ICZhGUXvzV",
        "outputId": "44284e78-b5d5-4e83-cf68-bcd0aef60479"
      },
      "execution_count": null,
      "outputs": [
        {
          "output_type": "execute_result",
          "data": {
            "text/plain": [
              "'abcdefghijklmnopqrstuvwxyz'"
            ],
            "application/vnd.google.colaboratory.intrinsic+json": {
              "type": "string"
            }
          },
          "metadata": {},
          "execution_count": 19
        }
      ]
    },
    {
      "cell_type": "code",
      "source": [
        "string.ascii_uppercase"
      ],
      "metadata": {
        "colab": {
          "base_uri": "https://localhost:8080/",
          "height": 35
        },
        "id": "8iPbAbmFXwYz",
        "outputId": "03a4e042-e166-4c6a-8e1a-445c3d4dd7d5"
      },
      "execution_count": null,
      "outputs": [
        {
          "output_type": "execute_result",
          "data": {
            "text/plain": [
              "'ABCDEFGHIJKLMNOPQRSTUVWXYZ'"
            ],
            "application/vnd.google.colaboratory.intrinsic+json": {
              "type": "string"
            }
          },
          "metadata": {},
          "execution_count": 20
        }
      ]
    },
    {
      "cell_type": "code",
      "source": [
        "string.digits"
      ],
      "metadata": {
        "colab": {
          "base_uri": "https://localhost:8080/",
          "height": 35
        },
        "id": "orktWYrXXwel",
        "outputId": "b77e2cb5-1fb4-4b05-c2f6-39eebecc86af"
      },
      "execution_count": null,
      "outputs": [
        {
          "output_type": "execute_result",
          "data": {
            "text/plain": [
              "'0123456789'"
            ],
            "application/vnd.google.colaboratory.intrinsic+json": {
              "type": "string"
            }
          },
          "metadata": {},
          "execution_count": 21
        }
      ]
    },
    {
      "cell_type": "code",
      "source": [
        "string.hexdigits"
      ],
      "metadata": {
        "colab": {
          "base_uri": "https://localhost:8080/",
          "height": 35
        },
        "id": "s76AAW3DXwh3",
        "outputId": "bc3badd4-77fb-4abe-e515-466bb6ca9594"
      },
      "execution_count": null,
      "outputs": [
        {
          "output_type": "execute_result",
          "data": {
            "text/plain": [
              "'0123456789abcdefABCDEF'"
            ],
            "application/vnd.google.colaboratory.intrinsic+json": {
              "type": "string"
            }
          },
          "metadata": {},
          "execution_count": 22
        }
      ]
    },
    {
      "cell_type": "code",
      "source": [
        "string.octdigits"
      ],
      "metadata": {
        "colab": {
          "base_uri": "https://localhost:8080/",
          "height": 35
        },
        "id": "WsEpprf0Xwkg",
        "outputId": "4fb62b03-b6f1-41d3-f2a4-8feb0b86c014"
      },
      "execution_count": null,
      "outputs": [
        {
          "output_type": "execute_result",
          "data": {
            "text/plain": [
              "'01234567'"
            ],
            "application/vnd.google.colaboratory.intrinsic+json": {
              "type": "string"
            }
          },
          "metadata": {},
          "execution_count": 23
        }
      ]
    },
    {
      "cell_type": "code",
      "source": [
        "string.punctuation"
      ],
      "metadata": {
        "colab": {
          "base_uri": "https://localhost:8080/",
          "height": 35
        },
        "id": "R_UymHH-Xwnk",
        "outputId": "74fc6e02-60ed-44f9-d560-10a51546af29"
      },
      "execution_count": null,
      "outputs": [
        {
          "output_type": "execute_result",
          "data": {
            "text/plain": [
              "'!\"#$%&\\'()*+,-./:;<=>?@[\\\\]^_`{|}~'"
            ],
            "application/vnd.google.colaboratory.intrinsic+json": {
              "type": "string"
            }
          },
          "metadata": {},
          "execution_count": 25
        }
      ]
    },
    {
      "cell_type": "code",
      "source": [
        "string.printable"
      ],
      "metadata": {
        "colab": {
          "base_uri": "https://localhost:8080/",
          "height": 35
        },
        "id": "JnRhofR0XwqZ",
        "outputId": "7506ca02-cabf-4393-92d8-386ff013d124"
      },
      "execution_count": null,
      "outputs": [
        {
          "output_type": "execute_result",
          "data": {
            "text/plain": [
              "'0123456789abcdefghijklmnopqrstuvwxyzABCDEFGHIJKLMNOPQRSTUVWXYZ!\"#$%&\\'()*+,-./:;<=>?@[\\\\]^_`{|}~ \\t\\n\\r\\x0b\\x0c'"
            ],
            "application/vnd.google.colaboratory.intrinsic+json": {
              "type": "string"
            }
          },
          "metadata": {},
          "execution_count": 26
        }
      ]
    },
    {
      "cell_type": "code",
      "source": [
        "string.whitespace"
      ],
      "metadata": {
        "colab": {
          "base_uri": "https://localhost:8080/",
          "height": 35
        },
        "id": "mcuHYSBBXwt1",
        "outputId": "4fddf6fa-5ecb-4e45-fa8b-6428d41c7354"
      },
      "execution_count": null,
      "outputs": [
        {
          "output_type": "execute_result",
          "data": {
            "text/plain": [
              "' \\t\\n\\r\\x0b\\x0c'"
            ],
            "application/vnd.google.colaboratory.intrinsic+json": {
              "type": "string"
            }
          },
          "metadata": {},
          "execution_count": 27
        }
      ]
    },
    {
      "cell_type": "markdown",
      "source": [
        "**Logical operators on strings**"
      ],
      "metadata": {
        "id": "PQHLJB64laCw"
      }
    },
    {
      "cell_type": "code",
      "source": [
        "str1 = 'Hey!!'\n",
        "str2 = 'Say!!'\n",
        "str3 = ''\n",
        "str4 = ''\n",
        "\n",
        "print(\"str1 and str2 : \",str1 and str2)# str2\n",
        "print(\"str1 and str3 : \",str1 and str3)# str3\n",
        "print(\"str3 and str2 : \",str3 and str2)# str3\n",
        "print(\"str3 and str4 : \",str3 and str4)# str3\n",
        "\n",
        "print(\"str1 or str2 : \",str1 or str2)# str1\n",
        "print(\"str1 or str3 : \",str1 or str3)# str1\n",
        "print(\"str3 or str2 : \",str3 or str2)# str2\n",
        "print(\"str3 or str4 : \",str3 or str4)# str4"
      ],
      "metadata": {
        "colab": {
          "base_uri": "https://localhost:8080/"
        },
        "id": "o8Sf77g8leJ6",
        "outputId": "572a8dd3-c483-45d6-b2ef-7efe16f0baef"
      },
      "execution_count": null,
      "outputs": [
        {
          "output_type": "stream",
          "name": "stdout",
          "text": [
            "str1 and str2 :  Say!!\n",
            "str1 and str3 :  \n",
            "str3 and str2 :  \n",
            "str3 and str4 :  \n",
            "str1 or str2 :  Hey!!\n",
            "str1 or str3 :  Hey!!\n",
            "str3 or str2 :  Say!!\n",
            "str3 or str4 :  \n"
          ]
        }
      ]
    },
    {
      "cell_type": "markdown",
      "source": [
        "**String comparision**"
      ],
      "metadata": {
        "id": "_i8ZDarwoZ2n"
      }
    },
    {
      "cell_type": "code",
      "source": [
        "str1 = 'ey!!'\n",
        "str2 = 'ay!!'\n",
        "str3 = ''\n",
        "str4 = ''\n",
        "\n",
        "print(str1 == str2)\n",
        "print(str3 == str4)\n",
        "print(str1 < str2)"
      ],
      "metadata": {
        "colab": {
          "base_uri": "https://localhost:8080/"
        },
        "id": "-frxbftEoavc",
        "outputId": "35697985-4fc9-464c-c173-ebdd3ce3eb0d"
      },
      "execution_count": null,
      "outputs": [
        {
          "output_type": "stream",
          "name": "stdout",
          "text": [
            "False\n",
            "True\n",
            "False\n"
          ]
        }
      ]
    },
    {
      "cell_type": "markdown",
      "source": [
        "## Aritmetic operations"
      ],
      "metadata": {
        "id": "jnPMmt0SSBLs"
      }
    },
    {
      "cell_type": "code",
      "source": [
        "str1 = \"hey Thanks!!\"\n",
        "str2 = \"I'm good!!\"\n",
        "\n",
        "str3 = str1 + str2\n",
        "print(str3)\n",
        "\n",
        "print(\"*\" * 50)"
      ],
      "metadata": {
        "colab": {
          "base_uri": "https://localhost:8080/"
        },
        "id": "fqlBYtA4SCVS",
        "outputId": "d972de41-1158-4e2d-c815-be56c3870a7a"
      },
      "execution_count": null,
      "outputs": [
        {
          "output_type": "stream",
          "name": "stdout",
          "text": [
            "hey Thanks!!I'm good!!\n",
            "**************************************************\n"
          ]
        }
      ]
    },
    {
      "cell_type": "code",
      "source": [
        "# Membership operations\n",
        "import string\n",
        "\n",
        "str1 = 'Hey thanks!!'\n",
        "print(str1[4] in string.ascii_letters)\n",
        "print(str1[4] not in string.punctuation)"
      ],
      "metadata": {
        "colab": {
          "base_uri": "https://localhost:8080/"
        },
        "id": "gIUgvHJPSqpb",
        "outputId": "e698e3d8-e803-4150-dddc-ebc8a72773b0"
      },
      "execution_count": null,
      "outputs": [
        {
          "output_type": "stream",
          "name": "stdout",
          "text": [
            "True\n",
            "True\n"
          ]
        }
      ]
    },
    {
      "cell_type": "markdown",
      "source": [
        "# String methods"
      ],
      "metadata": {
        "id": "ldu4xfX-FKPN"
      }
    },
    {
      "cell_type": "code",
      "source": [
        "str1 = 'hey!! thanks'\n",
        "print(str1.capitalize())"
      ],
      "metadata": {
        "colab": {
          "base_uri": "https://localhost:8080/"
        },
        "id": "VPD8hJpJFKzb",
        "outputId": "904121a4-0f6c-4da6-d779-1d981e3f8d3c"
      },
      "execution_count": null,
      "outputs": [
        {
          "output_type": "stream",
          "name": "stdout",
          "text": [
            "Hey!! thanks\n"
          ]
        }
      ]
    },
    {
      "cell_type": "code",
      "source": [
        "str1 = 'HEy!! How Are You?'\n",
        "print(str1.casefold())"
      ],
      "metadata": {
        "colab": {
          "base_uri": "https://localhost:8080/"
        },
        "id": "AOIeUo-VWU_P",
        "outputId": "4b65bd4c-b8c1-4296-ffd6-e35f8216b291"
      },
      "execution_count": null,
      "outputs": [
        {
          "output_type": "stream",
          "name": "stdout",
          "text": [
            "hey!! how are you?\n"
          ]
        }
      ]
    },
    {
      "cell_type": "code",
      "source": [
        "str1.count('H',7)"
      ],
      "metadata": {
        "colab": {
          "base_uri": "https://localhost:8080/"
        },
        "id": "IMIxhCDBXGBP",
        "outputId": "c7791911-53d2-4b0f-a087-053e27265874"
      },
      "execution_count": null,
      "outputs": [
        {
          "output_type": "execute_result",
          "data": {
            "text/plain": [
              "0"
            ]
          },
          "metadata": {},
          "execution_count": 2
        }
      ]
    },
    {
      "cell_type": "code",
      "source": [
        "str1.endswith('?')"
      ],
      "metadata": {
        "colab": {
          "base_uri": "https://localhost:8080/"
        },
        "id": "uxl2lph7qyr-",
        "outputId": "f85b88a0-04fe-4fc5-8ee2-abe64a51c06d"
      },
      "execution_count": null,
      "outputs": [
        {
          "output_type": "execute_result",
          "data": {
            "text/plain": [
              "True"
            ]
          },
          "metadata": {},
          "execution_count": 4
        }
      ]
    },
    {
      "cell_type": "code",
      "source": [
        "print(str1.find('jey'))\n",
        "print(str1.index('hey')) # ValueError: substring not found"
      ],
      "metadata": {
        "id": "PsQs85wZrkJX"
      },
      "execution_count": null,
      "outputs": []
    },
    {
      "cell_type": "code",
      "source": [
        "print(str1.find('Hey'))\n",
        "print(str1.index('Hey'))"
      ],
      "metadata": {
        "colab": {
          "base_uri": "https://localhost:8080/"
        },
        "id": "nD3mIjKvrwCM",
        "outputId": "336f0c21-f9d2-4884-c350-6d9419321695"
      },
      "execution_count": null,
      "outputs": [
        {
          "output_type": "stream",
          "name": "stdout",
          "text": [
            "0\n",
            "0\n"
          ]
        }
      ]
    },
    {
      "cell_type": "code",
      "source": [
        "str1.isalnum()"
      ],
      "metadata": {
        "colab": {
          "base_uri": "https://localhost:8080/"
        },
        "id": "CdWk_5UysEUN",
        "outputId": "744a3f87-3882-4498-c9e9-ef99f4075bba"
      },
      "execution_count": null,
      "outputs": [
        {
          "output_type": "execute_result",
          "data": {
            "text/plain": [
              "False"
            ]
          },
          "metadata": {},
          "execution_count": 8
        }
      ]
    },
    {
      "cell_type": "code",
      "source": [
        "str1.isalpha()"
      ],
      "metadata": {
        "colab": {
          "base_uri": "https://localhost:8080/"
        },
        "id": "aIngjlqVsKbE",
        "outputId": "75e78c58-c98b-42f4-8180-305fc3f2c58d"
      },
      "execution_count": null,
      "outputs": [
        {
          "output_type": "execute_result",
          "data": {
            "text/plain": [
              "False"
            ]
          },
          "metadata": {},
          "execution_count": 9
        }
      ]
    },
    {
      "cell_type": "code",
      "source": [
        "str1.isdigit()"
      ],
      "metadata": {
        "colab": {
          "base_uri": "https://localhost:8080/"
        },
        "id": "wQCAEYv3sPty",
        "outputId": "fd965a68-3f06-43d6-9b8d-ce1a976d9627"
      },
      "execution_count": null,
      "outputs": [
        {
          "output_type": "execute_result",
          "data": {
            "text/plain": [
              "False"
            ]
          },
          "metadata": {},
          "execution_count": 10
        }
      ]
    },
    {
      "cell_type": "code",
      "source": [
        "str1.isnumeric()"
      ],
      "metadata": {
        "colab": {
          "base_uri": "https://localhost:8080/"
        },
        "id": "oamzEbapsVdb",
        "outputId": "22db36dd-8cf4-4a10-8d8b-18face497868"
      },
      "execution_count": null,
      "outputs": [
        {
          "output_type": "execute_result",
          "data": {
            "text/plain": [
              "False"
            ]
          },
          "metadata": {},
          "execution_count": 11
        }
      ]
    },
    {
      "cell_type": "code",
      "source": [
        "str1.isdecimal()"
      ],
      "metadata": {
        "colab": {
          "base_uri": "https://localhost:8080/"
        },
        "id": "XWTyZXKUturB",
        "outputId": "10cb7396-63f2-4f39-bbe5-44f4deb4ea71"
      },
      "execution_count": null,
      "outputs": [
        {
          "output_type": "execute_result",
          "data": {
            "text/plain": [
              "False"
            ]
          },
          "metadata": {},
          "execution_count": 19
        }
      ]
    },
    {
      "cell_type": "code",
      "source": [
        "str1.islower()"
      ],
      "metadata": {
        "colab": {
          "base_uri": "https://localhost:8080/"
        },
        "id": "gHPSpWiVslZd",
        "outputId": "bca65f73-261e-4771-afc9-1f0904c6e4a6"
      },
      "execution_count": null,
      "outputs": [
        {
          "output_type": "execute_result",
          "data": {
            "text/plain": [
              "False"
            ]
          },
          "metadata": {},
          "execution_count": 12
        }
      ]
    },
    {
      "cell_type": "code",
      "source": [
        "str1.isupper()"
      ],
      "metadata": {
        "colab": {
          "base_uri": "https://localhost:8080/"
        },
        "id": "QkPTS6iIsonJ",
        "outputId": "2efba195-7e10-45ef-f8f5-3bacbb025dd7"
      },
      "execution_count": null,
      "outputs": [
        {
          "output_type": "execute_result",
          "data": {
            "text/plain": [
              "False"
            ]
          },
          "metadata": {},
          "execution_count": 13
        }
      ]
    },
    {
      "cell_type": "code",
      "source": [
        "str1.upper()"
      ],
      "metadata": {
        "colab": {
          "base_uri": "https://localhost:8080/",
          "height": 35
        },
        "id": "eWZWYjtGtjwl",
        "outputId": "80b947b2-caf0-4da1-91fd-97f791e14418"
      },
      "execution_count": null,
      "outputs": [
        {
          "output_type": "execute_result",
          "data": {
            "text/plain": [
              "'HEY!! HOW ARE YOU?'"
            ],
            "application/vnd.google.colaboratory.intrinsic+json": {
              "type": "string"
            }
          },
          "metadata": {},
          "execution_count": 16
        }
      ]
    },
    {
      "cell_type": "code",
      "source": [
        "str1.lower()"
      ],
      "metadata": {
        "colab": {
          "base_uri": "https://localhost:8080/",
          "height": 35
        },
        "id": "BlIYQ1eati4g",
        "outputId": "2c119498-6374-4f22-c7b1-f7987db317d1"
      },
      "execution_count": null,
      "outputs": [
        {
          "output_type": "execute_result",
          "data": {
            "text/plain": [
              "'hey!! how are you?'"
            ],
            "application/vnd.google.colaboratory.intrinsic+json": {
              "type": "string"
            }
          },
          "metadata": {},
          "execution_count": 17
        }
      ]
    },
    {
      "cell_type": "code",
      "source": [
        "str1.isspace()"
      ],
      "metadata": {
        "colab": {
          "base_uri": "https://localhost:8080/"
        },
        "id": "y5CD9IPesqn6",
        "outputId": "0025cce6-5482-4afd-b781-5519e81cd88d"
      },
      "execution_count": null,
      "outputs": [
        {
          "output_type": "execute_result",
          "data": {
            "text/plain": [
              "False"
            ]
          },
          "metadata": {},
          "execution_count": 14
        }
      ]
    },
    {
      "cell_type": "code",
      "source": [
        "str1.istitle() # 'The Hindu' is a title."
      ],
      "metadata": {
        "colab": {
          "base_uri": "https://localhost:8080/"
        },
        "id": "Fce5kEHjsv08",
        "outputId": "46411f0b-353d-4cf1-e084-e20f7a9b17e5"
      },
      "execution_count": null,
      "outputs": [
        {
          "output_type": "execute_result",
          "data": {
            "text/plain": [
              "True"
            ]
          },
          "metadata": {},
          "execution_count": 18
        }
      ]
    },
    {
      "cell_type": "code",
      "source": [
        "str1.center(31,'@')"
      ],
      "metadata": {
        "colab": {
          "base_uri": "https://localhost:8080/",
          "height": 35
        },
        "id": "T-W5nFuDtMuc",
        "outputId": "b7e699a6-6616-482f-dba3-8646b5b06654"
      },
      "execution_count": null,
      "outputs": [
        {
          "output_type": "execute_result",
          "data": {
            "text/plain": [
              "'@@@@@@@Hey!! How Are You?@@@@@@'"
            ],
            "application/vnd.google.colaboratory.intrinsic+json": {
              "type": "string"
            }
          },
          "metadata": {},
          "execution_count": 23
        }
      ]
    },
    {
      "cell_type": "code",
      "source": [
        "len(str1)"
      ],
      "metadata": {
        "colab": {
          "base_uri": "https://localhost:8080/"
        },
        "id": "RT5of4YozxZb",
        "outputId": "6879daaa-756d-4d76-9600-a0ece453e9c1"
      },
      "execution_count": null,
      "outputs": [
        {
          "output_type": "execute_result",
          "data": {
            "text/plain": [
              "18"
            ]
          },
          "metadata": {},
          "execution_count": 22
        }
      ]
    },
    {
      "cell_type": "code",
      "source": [
        "str1.ljust(20,'@')"
      ],
      "metadata": {
        "colab": {
          "base_uri": "https://localhost:8080/",
          "height": 35
        },
        "id": "L1NaC8A2z2Bz",
        "outputId": "3df543db-0110-4541-b787-bc0984051e84"
      },
      "execution_count": null,
      "outputs": [
        {
          "output_type": "execute_result",
          "data": {
            "text/plain": [
              "'Hey!! How Are You?@@'"
            ],
            "application/vnd.google.colaboratory.intrinsic+json": {
              "type": "string"
            }
          },
          "metadata": {},
          "execution_count": 25
        }
      ]
    },
    {
      "cell_type": "code",
      "source": [
        "str1.rjust(25,'@')"
      ],
      "metadata": {
        "colab": {
          "base_uri": "https://localhost:8080/",
          "height": 35
        },
        "id": "RQiQ7xZE0Gav",
        "outputId": "7ee7efac-b6e3-459a-cd7b-2bdf4e893831"
      },
      "execution_count": null,
      "outputs": [
        {
          "output_type": "execute_result",
          "data": {
            "text/plain": [
              "'@@@@@@@Hey!! How Are You?'"
            ],
            "application/vnd.google.colaboratory.intrinsic+json": {
              "type": "string"
            }
          },
          "metadata": {},
          "execution_count": 26
        }
      ]
    },
    {
      "cell_type": "code",
      "source": [
        "max(str1) # returns the greatest character based on ascii in string."
      ],
      "metadata": {
        "colab": {
          "base_uri": "https://localhost:8080/",
          "height": 35
        },
        "id": "FI5szJB20agu",
        "outputId": "5c353610-80f4-447d-fef7-cc5fa8c4c31a"
      },
      "execution_count": null,
      "outputs": [
        {
          "output_type": "execute_result",
          "data": {
            "text/plain": [
              "'y'"
            ],
            "application/vnd.google.colaboratory.intrinsic+json": {
              "type": "string"
            }
          },
          "metadata": {},
          "execution_count": 29
        }
      ]
    },
    {
      "cell_type": "code",
      "source": [
        "min(str1)"
      ],
      "metadata": {
        "colab": {
          "base_uri": "https://localhost:8080/",
          "height": 35
        },
        "id": "1jhPMmc30xQI",
        "outputId": "97c5169a-edbf-4931-9140-0a6b01bae230"
      },
      "execution_count": null,
      "outputs": [
        {
          "output_type": "execute_result",
          "data": {
            "text/plain": [
              "' '"
            ],
            "application/vnd.google.colaboratory.intrinsic+json": {
              "type": "string"
            }
          },
          "metadata": {},
          "execution_count": 30
        }
      ]
    },
    {
      "cell_type": "code",
      "source": [
        "str1.rfind('H')"
      ],
      "metadata": {
        "colab": {
          "base_uri": "https://localhost:8080/"
        },
        "id": "HYkKhgUl1WYf",
        "outputId": "9e9fb0b8-aaa1-49bf-bae2-a84bd7ea6379"
      },
      "execution_count": null,
      "outputs": [
        {
          "output_type": "execute_result",
          "data": {
            "text/plain": [
              "6"
            ]
          },
          "metadata": {},
          "execution_count": 31
        }
      ]
    },
    {
      "cell_type": "code",
      "source": [
        "str1.rindex('H')"
      ],
      "metadata": {
        "colab": {
          "base_uri": "https://localhost:8080/"
        },
        "id": "D9hhNDHE1lbs",
        "outputId": "d57c58d6-7d12-45b7-d069-45b77b1a1e51"
      },
      "execution_count": null,
      "outputs": [
        {
          "output_type": "execute_result",
          "data": {
            "text/plain": [
              "6"
            ]
          },
          "metadata": {},
          "execution_count": 33
        }
      ]
    },
    {
      "cell_type": "code",
      "source": [
        "str4.splitlines(2)"
      ],
      "metadata": {
        "colab": {
          "base_uri": "https://localhost:8080/"
        },
        "id": "Mn3d2qXm16Mf",
        "outputId": "2c896645-4dee-4c11-821f-963a7e5b2728"
      },
      "execution_count": null,
      "outputs": [
        {
          "output_type": "execute_result",
          "data": {
            "text/plain": [
              "['Hey!!\\n', 'I can write a story here.\\n', 'This is a multiline comments']"
            ]
          },
          "metadata": {},
          "execution_count": 37
        }
      ]
    },
    {
      "cell_type": "code",
      "source": [
        "str4.splitlines(1)"
      ],
      "metadata": {
        "colab": {
          "base_uri": "https://localhost:8080/"
        },
        "id": "FwS9Pvvj2cOM",
        "outputId": "20b43569-e7c5-43aa-9df5-3c254f1b0f1f"
      },
      "execution_count": null,
      "outputs": [
        {
          "output_type": "execute_result",
          "data": {
            "text/plain": [
              "['Hey!!\\n', 'I can write a story here.\\n', 'This is a multiline comments']"
            ]
          },
          "metadata": {},
          "execution_count": 40
        }
      ]
    },
    {
      "cell_type": "code",
      "source": [
        "str4.count('\\n')"
      ],
      "metadata": {
        "colab": {
          "base_uri": "https://localhost:8080/"
        },
        "id": "lEBMsO-02m3d",
        "outputId": "a58d38ec-1e35-4cec-f85f-ad454749ab0c"
      },
      "execution_count": null,
      "outputs": [
        {
          "output_type": "execute_result",
          "data": {
            "text/plain": [
              "2"
            ]
          },
          "metadata": {},
          "execution_count": 39
        }
      ]
    },
    {
      "cell_type": "code",
      "source": [
        "str6 = '1241234'\n",
        "str6.zfill(10)"
      ],
      "metadata": {
        "colab": {
          "base_uri": "https://localhost:8080/",
          "height": 35
        },
        "id": "Mj_-Db2m3XnS",
        "outputId": "3f891083-d06c-4eda-94ff-71321b3ae6a7"
      },
      "execution_count": null,
      "outputs": [
        {
          "output_type": "execute_result",
          "data": {
            "text/plain": [
              "'0001241234'"
            ],
            "application/vnd.google.colaboratory.intrinsic+json": {
              "type": "string"
            }
          },
          "metadata": {},
          "execution_count": 44
        }
      ]
    },
    {
      "cell_type": "code",
      "source": [
        "seq = ['we','er','za','ra']\n",
        "string = '1995' # separator string\n",
        "string.join(seq)\n",
        "' '.join(seq)"
      ],
      "metadata": {
        "colab": {
          "base_uri": "https://localhost:8080/",
          "height": 35
        },
        "id": "Tceq7eQV39WL",
        "outputId": "c31ee8b3-5121-4981-c2c8-fba2f805dbb2"
      },
      "execution_count": null,
      "outputs": [
        {
          "output_type": "execute_result",
          "data": {
            "text/plain": [
              "'we er za ra'"
            ],
            "application/vnd.google.colaboratory.intrinsic+json": {
              "type": "string"
            }
          },
          "metadata": {},
          "execution_count": 47
        }
      ]
    },
    {
      "cell_type": "code",
      "source": [
        "sorted('hello world!',reverse = True)"
      ],
      "metadata": {
        "id": "970UYsEr4eqk",
        "colab": {
          "base_uri": "https://localhost:8080/"
        },
        "outputId": "b806a1ec-5802-4842-d565-41306973ec04"
      },
      "execution_count": null,
      "outputs": [
        {
          "output_type": "execute_result",
          "data": {
            "text/plain": [
              "['w', 'r', 'o', 'o', 'l', 'l', 'l', 'h', 'e', 'd', '!', ' ']"
            ]
          },
          "metadata": {},
          "execution_count": 14
        }
      ]
    },
    {
      "cell_type": "code",
      "source": [
        "str1."
      ],
      "metadata": {
        "id": "MZhM8riGM_2T"
      },
      "execution_count": null,
      "outputs": []
    },
    {
      "cell_type": "code",
      "source": [],
      "metadata": {
        "id": "MJXr_GC_wYin"
      },
      "execution_count": null,
      "outputs": []
    },
    {
      "cell_type": "markdown",
      "source": [
        "## Operations on strings\n",
        "\n",
        "\n",
        "\n",
        "1.   Arithmetic operations\n",
        "2.   Logical operations\n",
        "1.   Relational operations\n",
        "2.   Loops on strings\n",
        "1.   Membership\n",
        "\n",
        "\n",
        "\n",
        "\n",
        "\n"
      ],
      "metadata": {
        "id": "NqGivqUpuZAT"
      }
    },
    {
      "cell_type": "code",
      "source": [
        "# Arithmetic operators : + and *\n",
        "\n",
        "print('Hello ' + 'World' + '!')"
      ],
      "metadata": {
        "colab": {
          "base_uri": "https://localhost:8080/"
        },
        "id": "LXecDVKzucdN",
        "outputId": "4e8c4307-8fdc-4084-f5e1-5358f0cb462c"
      },
      "execution_count": null,
      "outputs": [
        {
          "output_type": "stream",
          "name": "stdout",
          "text": [
            "Hello World!\n"
          ]
        }
      ]
    },
    {
      "cell_type": "code",
      "source": [
        "print('*'*50)"
      ],
      "metadata": {
        "colab": {
          "base_uri": "https://localhost:8080/"
        },
        "id": "wmS8D0sRu20H",
        "outputId": "75795dad-21d4-4886-b97d-c6b88064ba75"
      },
      "execution_count": null,
      "outputs": [
        {
          "output_type": "stream",
          "name": "stdout",
          "text": [
            "**************************************************\n"
          ]
        }
      ]
    },
    {
      "cell_type": "code",
      "source": [
        "# Relational operations\n",
        "'delhi' != 'delhi'"
      ],
      "metadata": {
        "colab": {
          "base_uri": "https://localhost:8080/"
        },
        "id": "1JhmwSlEu6Lf",
        "outputId": "3658a561-dac6-4241-810c-3e713f083622"
      },
      "execution_count": null,
      "outputs": [
        {
          "output_type": "execute_result",
          "data": {
            "text/plain": [
              "False"
            ]
          },
          "metadata": {},
          "execution_count": 3
        }
      ]
    },
    {
      "cell_type": "code",
      "source": [
        "# compared lexicographically based on the ascii value.\n",
        "# ascii value of m is smaller than ascii value of p\n",
        "'mumbai' > 'pune'"
      ],
      "metadata": {
        "colab": {
          "base_uri": "https://localhost:8080/"
        },
        "id": "NQsmwtxVwo0V",
        "outputId": "5d2a55e5-17ca-404b-d348-99ff80d3a630"
      },
      "execution_count": null,
      "outputs": [
        {
          "output_type": "execute_result",
          "data": {
            "text/plain": [
              "False"
            ]
          },
          "metadata": {},
          "execution_count": 4
        }
      ]
    },
    {
      "cell_type": "code",
      "source": [
        "# Logical operations\n",
        "print('hello' and 'world') # world\n",
        "print('Hello' and '') # empty string\n",
        "print('' and 'world') # empty string\n",
        "print('' and '') # empty string"
      ],
      "metadata": {
        "colab": {
          "base_uri": "https://localhost:8080/"
        },
        "id": "JhITYnL1wsM2",
        "outputId": "9f64c0b0-0502-460f-f581-be0d8ada6a5c"
      },
      "execution_count": null,
      "outputs": [
        {
          "output_type": "stream",
          "name": "stdout",
          "text": [
            "world\n",
            "\n",
            "\n"
          ]
        }
      ]
    },
    {
      "cell_type": "code",
      "source": [
        "print('hello' or 'world') # hello\n",
        "print('hello' or '') # hello\n",
        "print('' or 'hello') # hello\n",
        "print('' or '') # empty string\n"
      ],
      "metadata": {
        "colab": {
          "base_uri": "https://localhost:8080/"
        },
        "id": "y2Yb73UWxPB4",
        "outputId": "c02ccf9e-4fa5-4506-9c56-942afeb9f201"
      },
      "execution_count": null,
      "outputs": [
        {
          "output_type": "stream",
          "name": "stdout",
          "text": [
            "hello\n",
            "hello\n",
            "hello\n",
            "\n"
          ]
        }
      ]
    },
    {
      "cell_type": "code",
      "source": [
        "print(not 'hello')\n",
        "print(not '')"
      ],
      "metadata": {
        "colab": {
          "base_uri": "https://localhost:8080/"
        },
        "id": "tMBKl-8Lx1gV",
        "outputId": "9cbc6802-ba84-4506-fee3-cf832350e3d8"
      },
      "execution_count": null,
      "outputs": [
        {
          "output_type": "stream",
          "name": "stdout",
          "text": [
            "False\n",
            "True\n"
          ]
        }
      ]
    },
    {
      "cell_type": "code",
      "source": [
        "# loops on strings\n",
        "for i in 'hello':\n",
        "  print(i)"
      ],
      "metadata": {
        "colab": {
          "base_uri": "https://localhost:8080/"
        },
        "id": "O0YxufOdyGjr",
        "outputId": "abd4cf18-3d10-4e6e-9a64-fb12bf464d29"
      },
      "execution_count": null,
      "outputs": [
        {
          "output_type": "stream",
          "name": "stdout",
          "text": [
            "h\n",
            "e\n",
            "l\n",
            "l\n",
            "o\n"
          ]
        }
      ]
    },
    {
      "cell_type": "code",
      "source": [
        "for i in 'delhi':\n",
        "  print('pune')"
      ],
      "metadata": {
        "colab": {
          "base_uri": "https://localhost:8080/"
        },
        "id": "1WGMW3poyiDl",
        "outputId": "32e0a8db-38ad-4046-d7ec-b5c08b45bb2e"
      },
      "execution_count": null,
      "outputs": [
        {
          "output_type": "stream",
          "name": "stdout",
          "text": [
            "pune\n",
            "pune\n",
            "pune\n",
            "pune\n",
            "pune\n"
          ]
        }
      ]
    },
    {
      "cell_type": "code",
      "source": [
        "# membership\n",
        "\n",
        "print('d' in 'delhi')\n",
        "print('D' in 'delhi')\n",
        "print('D' not in 'delhi')"
      ],
      "metadata": {
        "colab": {
          "base_uri": "https://localhost:8080/"
        },
        "id": "k6VptBkVyntx",
        "outputId": "0fdd42ea-f1d2-4f93-a9ae-723fe15c241c"
      },
      "execution_count": null,
      "outputs": [
        {
          "output_type": "stream",
          "name": "stdout",
          "text": [
            "True\n",
            "False\n",
            "True\n"
          ]
        }
      ]
    },
    {
      "cell_type": "code",
      "source": [],
      "metadata": {
        "id": "J5kWCIPHy74U"
      },
      "execution_count": null,
      "outputs": []
    },
    {
      "cell_type": "markdown",
      "source": [
        "## Example programs on strings"
      ],
      "metadata": {
        "id": "yAe_IBwpEf5I"
      }
    },
    {
      "cell_type": "code",
      "source": [
        "# FIND THE LENGTH OF A GIVEN STRING WITHOUT USING THE LEN() FUNCTION\n",
        "s = input('enter the string')\n",
        "\n",
        "counter = 0\n",
        "for i in s:\n",
        "  counter +=1\n",
        "\n",
        "print(counter)"
      ],
      "metadata": {
        "colab": {
          "base_uri": "https://localhost:8080/"
        },
        "id": "_aTJ7-iPEk_n",
        "outputId": "5db7d797-eacc-4ec1-ea5d-288ffb3bef9f"
      },
      "execution_count": null,
      "outputs": [
        {
          "output_type": "stream",
          "name": "stdout",
          "text": [
            "enter the stringHello world\n",
            "11\n"
          ]
        }
      ]
    },
    {
      "cell_type": "code",
      "source": [
        "# Extract username from a given email\n",
        "\n",
        "email = input('enter your email id')\n",
        "\n",
        "pos = email.index('@')\n",
        "\n",
        "print(email[0 : pos])\n",
        "print(len(email[0 : pos]))\n"
      ],
      "metadata": {
        "colab": {
          "base_uri": "https://localhost:8080/"
        },
        "id": "O9usZwlfE5Gw",
        "outputId": "ab0d5f0f-9b6f-486b-8cc0-4cdf8aaf5fed"
      },
      "execution_count": null,
      "outputs": [
        {
          "output_type": "stream",
          "name": "stdout",
          "text": [
            "enter your email idsejal.patel@gmail.com\n",
            "sejal.patel\n",
            "11\n"
          ]
        }
      ]
    },
    {
      "cell_type": "code",
      "source": [
        "# count frequency of a particular character in a provided string\n",
        "s = input('enter the email id')\n",
        "term = input('what would you like to search')\n",
        "\n",
        "counter = 0\n",
        "for i in s:\n",
        "  if i == term:\n",
        "    counter += 1\n",
        "\n",
        "print(counter)"
      ],
      "metadata": {
        "colab": {
          "base_uri": "https://localhost:8080/"
        },
        "id": "zPUXtVKFFjkF",
        "outputId": "fbeb991f-dd61-4b19-9423-2723591405de"
      },
      "execution_count": null,
      "outputs": [
        {
          "output_type": "stream",
          "name": "stdout",
          "text": [
            "enter the email idsejal.patel@gmail.com\n",
            "what would you like to searcha\n",
            "3\n"
          ]
        }
      ]
    },
    {
      "cell_type": "code",
      "source": [
        "# WAP which can remove a particular character from a string\n",
        "s = input('enter the email id')\n",
        "term = input('what would you like to search')\n",
        "\n",
        "result = ''\n",
        "for i in s:\n",
        "  if i != term:\n",
        "    result = result + i\n",
        "\n",
        "print(result)"
      ],
      "metadata": {
        "colab": {
          "base_uri": "https://localhost:8080/"
        },
        "id": "0pVSZdriGwEN",
        "outputId": "72af20f7-eb09-4403-be15-a75003143d74"
      },
      "execution_count": null,
      "outputs": [
        {
          "output_type": "stream",
          "name": "stdout",
          "text": [
            "enter the email idsejal.patel@gmail.com\n",
            "what would you like to searchs\n",
            "ejal.patel@gmail.com\n"
          ]
        }
      ]
    },
    {
      "cell_type": "code",
      "source": [
        "# WAP to check if the given string is palindrome\n",
        "s = input('enter a string to check if its palindrome')\n",
        "flag = False\n",
        "for i in range(len(s)/2):\n",
        "  if s[i] != s[len(s) - i -1]:\n",
        "    flag = True\n",
        "    print('Not a palindrome')\n",
        "    break\n",
        "\n",
        "if flag == False:\n",
        "  print('A palindrome')\n",
        "\n"
      ],
      "metadata": {
        "colab": {
          "base_uri": "https://localhost:8080/",
          "height": 253
        },
        "id": "PtgHX7XZHIQL",
        "outputId": "5fc3658f-9b28-4414-f4f7-31bfd9e8ec8d"
      },
      "execution_count": null,
      "outputs": [
        {
          "name": "stdout",
          "output_type": "stream",
          "text": [
            "enter a string to check if its palindromeabba\n"
          ]
        },
        {
          "output_type": "error",
          "ename": "TypeError",
          "evalue": "ignored",
          "traceback": [
            "\u001b[0;31m---------------------------------------------------------------------------\u001b[0m",
            "\u001b[0;31mTypeError\u001b[0m                                 Traceback (most recent call last)",
            "\u001b[0;32m<ipython-input-20-8ab66bcc3523>\u001b[0m in \u001b[0;36m<cell line: 4>\u001b[0;34m()\u001b[0m\n\u001b[1;32m      2\u001b[0m \u001b[0ms\u001b[0m \u001b[0;34m=\u001b[0m \u001b[0minput\u001b[0m\u001b[0;34m(\u001b[0m\u001b[0;34m'enter a string to check if its palindrome'\u001b[0m\u001b[0;34m)\u001b[0m\u001b[0;34m\u001b[0m\u001b[0;34m\u001b[0m\u001b[0m\n\u001b[1;32m      3\u001b[0m \u001b[0mflag\u001b[0m \u001b[0;34m=\u001b[0m \u001b[0;32mFalse\u001b[0m\u001b[0;34m\u001b[0m\u001b[0;34m\u001b[0m\u001b[0m\n\u001b[0;32m----> 4\u001b[0;31m \u001b[0;32mfor\u001b[0m \u001b[0mi\u001b[0m \u001b[0;32min\u001b[0m \u001b[0mrange\u001b[0m\u001b[0;34m(\u001b[0m\u001b[0mlen\u001b[0m\u001b[0;34m(\u001b[0m\u001b[0ms\u001b[0m\u001b[0;34m)\u001b[0m\u001b[0;34m/\u001b[0m\u001b[0;36m2\u001b[0m\u001b[0;34m)\u001b[0m\u001b[0;34m:\u001b[0m\u001b[0;34m\u001b[0m\u001b[0;34m\u001b[0m\u001b[0m\n\u001b[0m\u001b[1;32m      5\u001b[0m   \u001b[0;32mif\u001b[0m \u001b[0ms\u001b[0m\u001b[0;34m[\u001b[0m\u001b[0mi\u001b[0m\u001b[0;34m]\u001b[0m \u001b[0;34m!=\u001b[0m \u001b[0ms\u001b[0m\u001b[0;34m[\u001b[0m\u001b[0mlen\u001b[0m\u001b[0;34m(\u001b[0m\u001b[0ms\u001b[0m\u001b[0;34m)\u001b[0m \u001b[0;34m-\u001b[0m \u001b[0mi\u001b[0m \u001b[0;34m-\u001b[0m\u001b[0;36m1\u001b[0m\u001b[0;34m]\u001b[0m\u001b[0;34m:\u001b[0m\u001b[0;34m\u001b[0m\u001b[0;34m\u001b[0m\u001b[0m\n\u001b[1;32m      6\u001b[0m     \u001b[0mflag\u001b[0m \u001b[0;34m=\u001b[0m \u001b[0;32mTrue\u001b[0m\u001b[0;34m\u001b[0m\u001b[0;34m\u001b[0m\u001b[0m\n",
            "\u001b[0;31mTypeError\u001b[0m: 'float' object cannot be interpreted as an integer"
          ]
        }
      ]
    },
    {
      "cell_type": "code",
      "source": [],
      "metadata": {
        "id": "lfU_91OTIGuK"
      },
      "execution_count": null,
      "outputs": []
    }
  ]
}