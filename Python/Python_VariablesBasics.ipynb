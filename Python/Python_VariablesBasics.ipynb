{
  "nbformat": 4,
  "nbformat_minor": 0,
  "metadata": {
    "colab": {
      "provenance": [],
      "authorship_tag": "ABX9TyP8sVxf6qTjtpy8Lbr0NSLE",
      "include_colab_link": true
    },
    "kernelspec": {
      "name": "python3",
      "display_name": "Python 3"
    },
    "language_info": {
      "name": "python"
    }
  },
  "cells": [
    {
      "cell_type": "markdown",
      "metadata": {
        "id": "view-in-github",
        "colab_type": "text"
      },
      "source": [
        "<a href=\"https://colab.research.google.com/github/Sejal-patel/DSMP/blob/master/Python/Python_VariablesBasics.ipynb\" target=\"_parent\"><img src=\"https://colab.research.google.com/assets/colab-badge.svg\" alt=\"Open In Colab\"/></a>"
      ]
    },
    {
      "cell_type": "markdown",
      "source": [
        "# Print Output"
      ],
      "metadata": {
        "id": "rN6kRFjnNUCI"
      }
    },
    {
      "cell_type": "markdown",
      "source": [
        "the reference value of x will be stored in the stack memory and the value of x will be stored in the heap memory.\n",
        "id() returns the heap memory location of x."
      ],
      "metadata": {
        "id": "pTdu-rTjZ3e9"
      }
    },
    {
      "cell_type": "code",
      "execution_count": null,
      "metadata": {
        "colab": {
          "base_uri": "https://localhost:8080/"
        },
        "id": "I4RouyQyNJRf",
        "outputId": "afdcf0b3-1194-4988-bd8d-4d7ce291808b"
      },
      "outputs": [
        {
          "output_type": "stream",
          "name": "stdout",
          "text": [
            "140053693177520\n"
          ]
        }
      ],
      "source": [
        "x = 45\n",
        "print(id(x))"
      ]
    },
    {
      "cell_type": "code",
      "source": [
        "b = 98\n",
        "print(id(b))"
      ],
      "metadata": {
        "colab": {
          "base_uri": "https://localhost:8080/"
        },
        "id": "PdBKCQBwNZ-K",
        "outputId": "bcf782c8-2463-42ad-9d22-1ad4d73285c2"
      },
      "execution_count": null,
      "outputs": [
        {
          "output_type": "stream",
          "name": "stdout",
          "text": [
            "140053693367696\n"
          ]
        }
      ]
    },
    {
      "cell_type": "markdown",
      "source": [
        "# Data Types"
      ],
      "metadata": {
        "id": "Jj8cN2xbNZZk"
      }
    },
    {
      "cell_type": "markdown",
      "source": [
        "\n",
        "\n",
        "1.   Integer\n",
        "2.   float\n",
        "2.   string\n",
        "1.   bool\n",
        "2.   None"
      ],
      "metadata": {
        "id": "zAPDYcgBN3vW"
      }
    },
    {
      "cell_type": "code",
      "source": [
        "x = 4\n",
        "print(type(x))"
      ],
      "metadata": {
        "colab": {
          "base_uri": "https://localhost:8080/"
        },
        "id": "9m9cc2fKNe9a",
        "outputId": "f57e3086-363f-4e84-e21f-a9591d1be8f8"
      },
      "execution_count": null,
      "outputs": [
        {
          "output_type": "stream",
          "name": "stdout",
          "text": [
            "<class 'int'>\n"
          ]
        }
      ]
    },
    {
      "cell_type": "code",
      "source": [
        "y = 4.5\n",
        "print(type(4.5))"
      ],
      "metadata": {
        "colab": {
          "base_uri": "https://localhost:8080/"
        },
        "id": "3STjf9RjN1vm",
        "outputId": "f759598f-20fd-40fa-8c51-88af9c6bbaf5"
      },
      "execution_count": null,
      "outputs": [
        {
          "output_type": "stream",
          "name": "stdout",
          "text": [
            "<class 'float'>\n"
          ]
        }
      ]
    },
    {
      "cell_type": "code",
      "source": [
        "z = True\n",
        "print(type(z))"
      ],
      "metadata": {
        "colab": {
          "base_uri": "https://localhost:8080/"
        },
        "id": "QwLxpfXDN1TU",
        "outputId": "e6de0c50-78c0-46ae-a5c6-516aabad79e8"
      },
      "execution_count": null,
      "outputs": [
        {
          "output_type": "stream",
          "name": "stdout",
          "text": [
            "<class 'bool'>\n"
          ]
        }
      ]
    },
    {
      "cell_type": "code",
      "source": [
        "s = 'Hello there!!'\n",
        "print(type(s))\n",
        "print(type(None))"
      ],
      "metadata": {
        "colab": {
          "base_uri": "https://localhost:8080/"
        },
        "id": "ZJpvVdexN0-V",
        "outputId": "c445ee9e-7b57-4262-9c75-6e986bcc239a"
      },
      "execution_count": null,
      "outputs": [
        {
          "output_type": "stream",
          "name": "stdout",
          "text": [
            "<class 'str'>\n",
            "<class 'NoneType'>\n"
          ]
        }
      ]
    },
    {
      "cell_type": "markdown",
      "source": [
        "# Type Conversion"
      ],
      "metadata": {
        "id": "K57oljS6Nf_x"
      }
    },
    {
      "cell_type": "code",
      "source": [
        "x = 4\n",
        "y = 4.5\n",
        "z = 'hey'\n",
        "s = '3.4'\n",
        "\n",
        "print(int(4.5))\n",
        "print(int('4'))\n",
        "print(int(True))\n",
        "print(int(False))\n",
        "#print(int(None)) cannot be convert None to int\n",
        "#print(int(s)) # throw error. since the value is of float type.\n",
        "print(int(float(s)))\n",
        "\n",
        "print(float(4))\n",
        "print(float(s))\n",
        "print(float(True))\n",
        "print(float(False))\n",
        "print(float('3'))\n",
        "# print(float(z)) invalid literal\n",
        "\n",
        "print(bool(2))\n",
        "print(bool(0))\n",
        "print(bool('hey'))\n",
        "print(bool(None))\n",
        "\n",
        "print(str(True))\n",
        "print(type(str(True)))\n",
        "print(str(4))\n",
        "print(str(4.5))\n",
        "print(str(None))\n",
        "\n"
      ],
      "metadata": {
        "colab": {
          "base_uri": "https://localhost:8080/"
        },
        "id": "edyZ9x-xNg5W",
        "outputId": "c5afb0ee-7cb8-4f74-c2ba-573e8f7d7837"
      },
      "execution_count": null,
      "outputs": [
        {
          "output_type": "stream",
          "name": "stdout",
          "text": [
            "4\n",
            "4\n",
            "1\n",
            "0\n",
            "3\n",
            "4.0\n",
            "3.4\n",
            "1.0\n",
            "0.0\n",
            "3.0\n",
            "True\n",
            "False\n",
            "True\n",
            "False\n",
            "True\n",
            "<class 'str'>\n",
            "4\n",
            "4.5\n",
            "None\n"
          ]
        }
      ]
    },
    {
      "cell_type": "markdown",
      "source": [
        "# Operators"
      ],
      "metadata": {
        "id": "z3tQU985Nhcs"
      }
    },
    {
      "cell_type": "markdown",
      "source": [
        "**Arithematic operators**\n",
        "\n",
        "\n",
        "1.   addition(+)\n",
        "2.   subtraction(-)\n",
        "1.   multiplication(*)\n",
        "1.   division(/)\n",
        "1.   modulus(%)\n",
        "2.   floor division (//)\n",
        "2.   exponentiation(**)\n",
        "\n",
        "\n",
        "\n"
      ],
      "metadata": {
        "id": "GJdg5hAU3t-u"
      }
    },
    {
      "cell_type": "code",
      "source": [
        "\n",
        "def operations(a,b):\n",
        "  print('add -->',a + b)\n",
        "  print('sub -->',a - b)\n",
        "  print('mul -->',a * b)\n",
        "  print('div -->',a / b)\n",
        "  print('mod -->',a % b)\n",
        "  print('floor div-->',a // b)\n",
        "  print('expo -->',a ** b)\n",
        "  print('------------------')\n",
        "\n",
        "operations(10,5)\n",
        "operations(10.0,5.0)\n",
        "operations(5, 3)\n",
        "\n",
        "print(-3 // 2) # (-3/2 = -1.5)"
      ],
      "metadata": {
        "colab": {
          "base_uri": "https://localhost:8080/"
        },
        "id": "Cod1wYeTzftB",
        "outputId": "7bee26b6-c6ca-4e96-b767-73bca34f59e3"
      },
      "execution_count": null,
      "outputs": [
        {
          "output_type": "stream",
          "name": "stdout",
          "text": [
            "add --> 15\n",
            "sub --> 5\n",
            "mul --> 50\n",
            "div --> 2.0\n",
            "mod --> 0\n",
            "floor div--> 2\n",
            "expo --> 100000\n",
            "------------------\n",
            "add --> 15.0\n",
            "sub --> 5.0\n",
            "mul --> 50.0\n",
            "div --> 2.0\n",
            "mod --> 0.0\n",
            "floor div--> 2.0\n",
            "expo --> 100000.0\n",
            "------------------\n",
            "add --> 8\n",
            "sub --> 2\n",
            "mul --> 15\n",
            "div --> 1.6666666666666667\n",
            "mod --> 2\n",
            "floor div--> 1\n",
            "expo --> 125\n",
            "------------------\n",
            "-2\n"
          ]
        }
      ]
    },
    {
      "cell_type": "markdown",
      "source": [
        "string concatenation using '+' operator"
      ],
      "metadata": {
        "id": "ov7nFs1V666y"
      }
    },
    {
      "cell_type": "code",
      "source": [
        "'Sejal ' + 'Patel'"
      ],
      "metadata": {
        "colab": {
          "base_uri": "https://localhost:8080/",
          "height": 35
        },
        "id": "d_87oRWm5R7q",
        "outputId": "a1e5ad24-2081-4d37-b261-9ac2ec601502"
      },
      "execution_count": null,
      "outputs": [
        {
          "output_type": "execute_result",
          "data": {
            "text/plain": [
              "'Sejal Patel'"
            ],
            "application/vnd.google.colaboratory.intrinsic+json": {
              "type": "string"
            }
          },
          "metadata": {},
          "execution_count": 26
        }
      ]
    },
    {
      "cell_type": "code",
      "source": [
        "'12' + '23'"
      ],
      "metadata": {
        "colab": {
          "base_uri": "https://localhost:8080/",
          "height": 35
        },
        "id": "aZObNNmu7ENO",
        "outputId": "7fc6e391-bcbd-48e8-d41a-9cf1308ebb03"
      },
      "execution_count": null,
      "outputs": [
        {
          "output_type": "execute_result",
          "data": {
            "text/plain": [
              "'1223'"
            ],
            "application/vnd.google.colaboratory.intrinsic+json": {
              "type": "string"
            }
          },
          "metadata": {},
          "execution_count": 27
        }
      ]
    },
    {
      "cell_type": "code",
      "source": [
        "# can only concatenate str (not \"int\") to str\n",
        "\n",
        "'12' + 12"
      ],
      "metadata": {
        "id": "wBYuMPrv7IQt"
      },
      "execution_count": null,
      "outputs": []
    },
    {
      "cell_type": "code",
      "source": [
        "'12' + str(12)"
      ],
      "metadata": {
        "colab": {
          "base_uri": "https://localhost:8080/",
          "height": 35
        },
        "id": "274fJbxi7N6C",
        "outputId": "b2cd241a-97a8-45c8-f22f-9b5644fbef3a"
      },
      "execution_count": null,
      "outputs": [
        {
          "output_type": "execute_result",
          "data": {
            "text/plain": [
              "'1212'"
            ],
            "application/vnd.google.colaboratory.intrinsic+json": {
              "type": "string"
            }
          },
          "metadata": {},
          "execution_count": 29
        }
      ]
    },
    {
      "cell_type": "code",
      "source": [
        "'Sejal' * 3"
      ],
      "metadata": {
        "colab": {
          "base_uri": "https://localhost:8080/",
          "height": 35
        },
        "id": "SdyiLQI47dSN",
        "outputId": "2220de00-96db-4408-cb6d-09c1eff7551a"
      },
      "execution_count": null,
      "outputs": [
        {
          "output_type": "execute_result",
          "data": {
            "text/plain": [
              "'SejalSejalSejal'"
            ],
            "application/vnd.google.colaboratory.intrinsic+json": {
              "type": "string"
            }
          },
          "metadata": {},
          "execution_count": 30
        }
      ]
    },
    {
      "cell_type": "markdown",
      "source": [
        "**Comparision operators**\n",
        "\n",
        "\n",
        "\n",
        "1.   ==\n",
        "2.   !=\n",
        "3.   >\n",
        "4.   <\n",
        "5.   >=\n",
        "6.   <=\n",
        "\n"
      ],
      "metadata": {
        "id": "qPEIeHp09Sli"
      }
    },
    {
      "cell_type": "code",
      "source": [
        "def compare(a,b):\n",
        "  print(a,b)\n",
        "  print('== -->',a == b)\n",
        "  print('!= -->',a != b)\n",
        "  print('> -->',a < b)\n",
        "  print('< -->',a > b)\n",
        "  print('>= -->',a <= b)\n",
        "  print('<= -->',a >= b)\n",
        "  print('--------')\n",
        "\n",
        "compare(3,4)\n",
        "compare('a','b')\n",
        "\n",
        "\n",
        "\n",
        "\n",
        ""
      ],
      "metadata": {
        "colab": {
          "base_uri": "https://localhost:8080/"
        },
        "id": "5ipWHBVe7nub",
        "outputId": "54c84bed-3d03-43ba-bc93-cdfb9750140b"
      },
      "execution_count": null,
      "outputs": [
        {
          "output_type": "stream",
          "name": "stdout",
          "text": [
            "3 4\n",
            "== --> False\n",
            "!= --> True\n",
            "> --> True\n",
            "< --> False\n",
            ">= --> True\n",
            "<= --> False\n",
            "--------\n",
            "a b\n",
            "== --> False\n",
            "!= --> True\n",
            "> --> True\n",
            "< --> False\n",
            ">= --> True\n",
            "<= --> False\n",
            "--------\n"
          ]
        }
      ]
    },
    {
      "cell_type": "markdown",
      "source": [
        "Assignment operators\n",
        "\n",
        "\n",
        "\n",
        "1.   =\n",
        "2.   +=\n",
        "1.   -=\n",
        "2.   *=\n",
        "1.   /=\n",
        "2.   %=\n",
        "1.   //=\n",
        "2.   **=\n",
        "1.   &=\n",
        "2.   ^=\n",
        "2.   <<=\n",
        "1.   >>=\n",
        "\n",
        "\n",
        "\n",
        "\n",
        "\n",
        "\n",
        "\n",
        "\n",
        "\n",
        "\n",
        "\n",
        "\n",
        "\n"
      ],
      "metadata": {
        "id": "ItRwxzZj_cmM"
      }
    },
    {
      "cell_type": "code",
      "source": [
        "x = 4\n",
        "print(x,'\\n')\n",
        "\n",
        "x += 3\n",
        "print(x)\n",
        "x -= 3\n",
        "print(x)\n",
        "x *= 3\n",
        "print(x)\n",
        "x /= 3\n",
        "print(x)\n",
        "x %= 3\n",
        "print(x)\n",
        "x **= 3\n",
        "print(x)\n",
        "x //= 3\n",
        "print(x)"
      ],
      "metadata": {
        "colab": {
          "base_uri": "https://localhost:8080/"
        },
        "id": "6Rr0H_Wc-wjV",
        "outputId": "3505b0f5-b425-4d99-ade5-4590f00b6cd1"
      },
      "execution_count": null,
      "outputs": [
        {
          "output_type": "stream",
          "name": "stdout",
          "text": [
            "4 \n",
            "\n",
            "7\n",
            "4\n",
            "12\n",
            "4.0\n",
            "1.0\n",
            "1.0\n",
            "0.0\n"
          ]
        }
      ]
    },
    {
      "cell_type": "markdown",
      "source": [
        "**Logical operator** - works on the boolean values\n",
        "\n",
        "\n",
        "\n",
        "1.   and\n",
        "2.   or\n",
        "1.   not\n",
        "\n",
        "\n",
        "\n"
      ],
      "metadata": {
        "id": "hov0S0-XCcNL"
      }
    },
    {
      "cell_type": "code",
      "source": [
        "print(2 > 3 and 4 > 3)"
      ],
      "metadata": {
        "colab": {
          "base_uri": "https://localhost:8080/"
        },
        "id": "KPWmNAZZCbv6",
        "outputId": "31291856-8bc9-4888-a75f-b9e293a55b33"
      },
      "execution_count": null,
      "outputs": [
        {
          "output_type": "stream",
          "name": "stdout",
          "text": [
            "False\n"
          ]
        }
      ]
    },
    {
      "cell_type": "code",
      "source": [
        "print(2 > 3 or 4 > 3)"
      ],
      "metadata": {
        "colab": {
          "base_uri": "https://localhost:8080/"
        },
        "id": "Rq2jfO1w_Sjl",
        "outputId": "6c169038-73e9-443c-9b7d-e04cb2aeed28"
      },
      "execution_count": null,
      "outputs": [
        {
          "output_type": "stream",
          "name": "stdout",
          "text": [
            "True\n"
          ]
        }
      ]
    },
    {
      "cell_type": "code",
      "source": [
        "print(not 2 > 3)"
      ],
      "metadata": {
        "colab": {
          "base_uri": "https://localhost:8080/"
        },
        "id": "q7eacI5lDjJo",
        "outputId": "e788c54f-fd20-443b-eda3-a0155239bf01"
      },
      "execution_count": null,
      "outputs": [
        {
          "output_type": "stream",
          "name": "stdout",
          "text": [
            "True\n"
          ]
        }
      ]
    },
    {
      "cell_type": "markdown",
      "source": [
        "**Special operators**\n",
        "\n",
        "\n",
        "\n",
        "1.   Membership operators - in, not in\n",
        "2.   Identity operators - is, is not\n",
        "\n",
        "is - tells you if both the objects are present in the same location in heap memory\n",
        "\n"
      ],
      "metadata": {
        "id": "HRADiuInELP7"
      }
    },
    {
      "cell_type": "code",
      "source": [
        "name = ['Rahul', 'Sejal', 'Rajesh', 'orange']\n",
        "\n",
        "print('Rahul' in name)\n",
        "print('watermelon' not in name)"
      ],
      "metadata": {
        "colab": {
          "base_uri": "https://localhost:8080/"
        },
        "id": "-27zXmnaDo-C",
        "outputId": "4162e298-9e9e-4d67-bf5f-28f57299f99b"
      },
      "execution_count": null,
      "outputs": [
        {
          "output_type": "stream",
          "name": "stdout",
          "text": [
            "True\n",
            "True\n"
          ]
        }
      ]
    },
    {
      "cell_type": "code",
      "source": [
        "a,b = 5,5\n",
        "\n",
        "print(id(a),id(b))\n",
        "print(a is b)"
      ],
      "metadata": {
        "colab": {
          "base_uri": "https://localhost:8080/"
        },
        "id": "JG-osSJaEjfF",
        "outputId": "b54fda69-6e05-49ac-b2aa-2b3ce7372901"
      },
      "execution_count": null,
      "outputs": [
        {
          "output_type": "stream",
          "name": "stdout",
          "text": [
            "140361034242480 140361034242480\n",
            "True\n"
          ]
        }
      ]
    },
    {
      "cell_type": "code",
      "source": [
        "a,b = 12,23\n",
        "\n",
        "print(id(a),id(b))\n",
        "print(a is b)"
      ],
      "metadata": {
        "colab": {
          "base_uri": "https://localhost:8080/"
        },
        "id": "RUL3qh8yJMYI",
        "outputId": "f3ced60a-19f6-410e-b546-00e6185e317f"
      },
      "execution_count": null,
      "outputs": [
        {
          "output_type": "stream",
          "name": "stdout",
          "text": [
            "140361034242704 140361034243056\n",
            "False\n"
          ]
        }
      ]
    },
    {
      "cell_type": "code",
      "source": [],
      "metadata": {
        "id": "-IpZLYPMJXTo"
      },
      "execution_count": null,
      "outputs": []
    },
    {
      "cell_type": "markdown",
      "source": [
        "# Scope of variables"
      ],
      "metadata": {
        "id": "tj0CUOS1jZAE"
      }
    },
    {
      "cell_type": "markdown",
      "source": [
        "global variables - has global access in the c"
      ],
      "metadata": {
        "id": "IRLvJh4yoOY8"
      }
    },
    {
      "cell_type": "code",
      "source": [
        "s = 'Hello'\n",
        "\n",
        "def func():\n",
        "  s = 'hey'\n",
        "  print(s)\n",
        "\n",
        "print(s)\n",
        "func()\n",
        "print(s)"
      ],
      "metadata": {
        "colab": {
          "base_uri": "https://localhost:8080/"
        },
        "id": "OX_4Bt3bje-a",
        "outputId": "4f3f3415-4bd9-424b-95f8-bb644c3b7c36"
      },
      "execution_count": null,
      "outputs": [
        {
          "output_type": "stream",
          "name": "stdout",
          "text": [
            "Hello\n",
            "hey\n",
            "Hello\n"
          ]
        }
      ]
    },
    {
      "cell_type": "code",
      "source": [
        "# UnboundLocalError: local variable 's' referenced before assignment\n",
        "s = 10\n",
        "\n",
        "def func():\n",
        "  s += 1\n",
        "  print(s)\n",
        "\n",
        "func()"
      ],
      "metadata": {
        "id": "ThY0WmbDjrsv"
      },
      "execution_count": null,
      "outputs": []
    },
    {
      "cell_type": "code",
      "source": [
        "s = 10\n",
        "\n",
        "def func():\n",
        "  global s\n",
        "  s += 1\n",
        "  print(s) #11\n",
        "\n",
        "func()"
      ],
      "metadata": {
        "colab": {
          "base_uri": "https://localhost:8080/"
        },
        "id": "R6UMxFc7j8HS",
        "outputId": "cfa1f630-2ae4-494d-cf0c-1301973a2fdf"
      },
      "execution_count": null,
      "outputs": [
        {
          "output_type": "stream",
          "name": "stdout",
          "text": [
            "11\n"
          ]
        }
      ]
    },
    {
      "cell_type": "code",
      "source": [
        "s = 10\n",
        "\n",
        "def func():\n",
        "  s = 'hey' # name 's' is assigned to before global declaration\n",
        "  print(s) # name 's' is used prior to global declaration\n",
        "\n",
        "  global s\n",
        "  s += 1\n",
        "  print(s)\n",
        "\n",
        "func()\n",
        "print(s)"
      ],
      "metadata": {
        "id": "rxSuDbTFkLEY",
        "outputId": "a46b8852-b755-48f1-9fb0-26ea2953e760",
        "colab": {
          "base_uri": "https://localhost:8080/",
          "height": 131
        }
      },
      "execution_count": null,
      "outputs": [
        {
          "output_type": "error",
          "ename": "SyntaxError",
          "evalue": "ignored",
          "traceback": [
            "\u001b[0;36m  File \u001b[0;32m\"<ipython-input-1-eb39d58343c5>\"\u001b[0;36m, line \u001b[0;32m7\u001b[0m\n\u001b[0;31m    global s\u001b[0m\n\u001b[0m    ^\u001b[0m\n\u001b[0;31mSyntaxError\u001b[0m\u001b[0;31m:\u001b[0m name 's' is used prior to global declaration\n"
          ]
        }
      ]
    },
    {
      "cell_type": "code",
      "source": [
        "s = 10\n",
        "\n",
        "def func():\n",
        "  a = 'hey'\n",
        "  print(a)\n",
        "\n",
        "  global s\n",
        "  s += 1\n",
        "  print(s)\n",
        "\n",
        "func()\n",
        "print(s)"
      ],
      "metadata": {
        "colab": {
          "base_uri": "https://localhost:8080/"
        },
        "id": "ov4sTR11kcLp",
        "outputId": "988d805d-16ce-4859-b355-fda35c299b27"
      },
      "execution_count": null,
      "outputs": [
        {
          "output_type": "stream",
          "name": "stdout",
          "text": [
            "hey\n",
            "11\n",
            "11\n"
          ]
        }
      ]
    },
    {
      "cell_type": "code",
      "source": [
        "a = 10\n",
        "def func():\n",
        "  s1 = 'local'\n",
        "  print(s)\n",
        "\n",
        "  global a\n",
        "  a += 1\n",
        "  print(a)\n",
        "\n",
        "func()\n",
        "print(s1) # NameError: name 's1' is not defined\n",
        "print(a)"
      ],
      "metadata": {
        "id": "UK1YVWFHlNnW"
      },
      "execution_count": null,
      "outputs": []
    },
    {
      "cell_type": "code",
      "source": [
        "def greet():\n",
        "\n",
        "    # local variable\n",
        "    message = 'Hello'\n",
        "\n",
        "    print('Local', message)\n",
        "\n",
        "greet()\n",
        "\n",
        "# try to access message variable\n",
        "# outside greet() function\n",
        "print(message) # NameError: name 'message' is not defined"
      ],
      "metadata": {
        "id": "QIMfSxY2li0z"
      },
      "execution_count": null,
      "outputs": []
    },
    {
      "cell_type": "code",
      "source": [
        "def greet():\n",
        "  message = 'Good morning!!'\n",
        "  print('inside greet() : ',message)\n",
        "\n",
        "  def greetSejal():\n",
        "    nonlocal message\n",
        "    message = 'Good morning Sejal!!'\n",
        "    print('inside greetSejal() : ',message)\n",
        "\n",
        "  greetSejal()\n",
        "  print('after greetSejal() : ',message)\n",
        "\n",
        "greet()\n",
        ""
      ],
      "metadata": {
        "id": "2PjXYn7Pn3lJ",
        "colab": {
          "base_uri": "https://localhost:8080/"
        },
        "outputId": "6a3ecfef-8bc3-4b16-a425-2d4cf7b6b7cf"
      },
      "execution_count": null,
      "outputs": [
        {
          "output_type": "stream",
          "name": "stdout",
          "text": [
            "inside greet() :  Good morning!!\n",
            "inside greetSejal() :  Good morning Sejal!!\n",
            "after greetSejal() :  Good morning Sejal!!\n"
          ]
        }
      ]
    },
    {
      "cell_type": "code",
      "source": [],
      "metadata": {
        "id": "Y7AFExhOsA7b"
      },
      "execution_count": null,
      "outputs": []
    }
  ]
}