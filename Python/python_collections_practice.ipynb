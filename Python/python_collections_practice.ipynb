{
  "nbformat": 4,
  "nbformat_minor": 0,
  "metadata": {
    "colab": {
      "provenance": [],
      "authorship_tag": "ABX9TyPlldC8juJkppVsnssh7MI7",
      "include_colab_link": true
    },
    "kernelspec": {
      "name": "python3",
      "display_name": "Python 3"
    },
    "language_info": {
      "name": "python"
    }
  },
  "cells": [
    {
      "cell_type": "markdown",
      "metadata": {
        "id": "view-in-github",
        "colab_type": "text"
      },
      "source": [
        "<a href=\"https://colab.research.google.com/github/Sejal-patel/DSMP/blob/master/Python/python_collections_practice.ipynb\" target=\"_parent\"><img src=\"https://colab.research.google.com/assets/colab-badge.svg\" alt=\"Open In Colab\"/></a>"
      ]
    },
    {
      "cell_type": "markdown",
      "source": [
        "### Lists"
      ],
      "metadata": {
        "id": "mnEGaVHCK--3"
      }
    },
    {
      "cell_type": "code",
      "execution_count": null,
      "metadata": {
        "colab": {
          "base_uri": "https://localhost:8080/"
        },
        "id": "7EpmfqsYDsZP",
        "outputId": "9ef3c9ed-2571-4ff4-abe8-1df362dc0f46"
      },
      "outputs": [
        {
          "output_type": "stream",
          "name": "stdout",
          "text": [
            "[1, 2.3, True, 'String', [1, 'hi', False], ('tuple',), {1, 2.3, 'set'}, {'hey': 'ho'}]\n"
          ]
        }
      ],
      "source": [
        "li = []\n",
        "li = [1,2.3,True,'String',[1,'hi',False],('tuple',),{1,2.3,'set'},{'hey':'ho'}]\n",
        "\n",
        "li = list(li)\n",
        "li = list([1,2.3,True,'String',[1,'hi',False],('tuple',),{1,2.3,'set'},{'hey':'ho'}])\n",
        "print(li)"
      ]
    },
    {
      "cell_type": "code",
      "source": [
        "li.append('appending')"
      ],
      "metadata": {
        "id": "ihlwqsNaEv95"
      },
      "execution_count": null,
      "outputs": []
    },
    {
      "cell_type": "code",
      "source": [
        "li.append([2,3])"
      ],
      "metadata": {
        "id": "FuxfxEGAFJqS"
      },
      "execution_count": null,
      "outputs": []
    },
    {
      "cell_type": "code",
      "source": [
        "li.insert(2,{'add','set'})"
      ],
      "metadata": {
        "id": "e_dCW1IJFbsW"
      },
      "execution_count": null,
      "outputs": []
    },
    {
      "cell_type": "code",
      "source": [
        "li.extend([9,0])"
      ],
      "metadata": {
        "id": "lWK6rsYqF9PL"
      },
      "execution_count": null,
      "outputs": []
    },
    {
      "cell_type": "code",
      "source": [
        "print(li)"
      ],
      "metadata": {
        "colab": {
          "base_uri": "https://localhost:8080/"
        },
        "id": "gUD5YqXOFO5m",
        "outputId": "b68e9ae9-5266-499e-898c-77a3b2d07a8d"
      },
      "execution_count": null,
      "outputs": [
        {
          "output_type": "stream",
          "name": "stdout",
          "text": [
            "[1, 2.3, {'add', 'set'}, True, 'String', [1, 'hi', False], ('tuple',), {1, 2.3, 'set'}, {'hey': 'ho'}, 'appending', [2, 3], 9, 0]\n"
          ]
        }
      ]
    },
    {
      "cell_type": "code",
      "source": [
        "print(li[2])\n",
        "print(li[-2])\n",
        "print(li[1:4])\n",
        "print(li[0::])\n",
        "print(li[::1])\n",
        "print(li[::2])\n",
        "print(li[len(li)::-1])\n",
        "print(li[len(li)::-2])\n",
        "print(li[-1::-1])\n",
        "print(li[-5::-2])"
      ],
      "metadata": {
        "colab": {
          "base_uri": "https://localhost:8080/"
        },
        "id": "zN0P_vlYGFTA",
        "outputId": "ea091fbc-2880-4c86-a3b0-8537143d6ff1"
      },
      "execution_count": null,
      "outputs": [
        {
          "output_type": "stream",
          "name": "stdout",
          "text": [
            "{'add', 'set'}\n",
            "9\n",
            "[2.3, {'add', 'set'}, True]\n",
            "[1, 2.3, {'add', 'set'}, True, 'String', [1, 'hi', False], ('tuple',), {1, 2.3, 'set'}, {'hey': 'ho'}, 'appending', [2, 3], 9, 0]\n",
            "[1, 2.3, {'add', 'set'}, True, 'String', [1, 'hi', False], ('tuple',), {1, 2.3, 'set'}, {'hey': 'ho'}, 'appending', [2, 3], 9, 0]\n",
            "[1, {'add', 'set'}, 'String', ('tuple',), {'hey': 'ho'}, [2, 3], 0]\n",
            "[0, 9, [2, 3], 'appending', {'hey': 'ho'}, {1, 2.3, 'set'}, ('tuple',), [1, 'hi', False], 'String', True, {'add', 'set'}, 2.3, 1]\n",
            "[0, [2, 3], {'hey': 'ho'}, ('tuple',), 'String', {'add', 'set'}, 1]\n",
            "[0, 9, [2, 3], 'appending', {'hey': 'ho'}, {1, 2.3, 'set'}, ('tuple',), [1, 'hi', False], 'String', True, {'add', 'set'}, 2.3, 1]\n",
            "[{'hey': 'ho'}, ('tuple',), 'String', {'add', 'set'}, 1]\n"
          ]
        }
      ]
    },
    {
      "cell_type": "code",
      "source": [
        "for i in range(len(li)):\n",
        "  print(li[i],end=',')\n",
        "\n",
        "print('\\n')\n",
        "for i in li:\n",
        "  print(i,end=',')"
      ],
      "metadata": {
        "colab": {
          "base_uri": "https://localhost:8080/"
        },
        "id": "kXEU4144GNkF",
        "outputId": "406a4a80-37da-40b0-9a79-9b2f5a60445b"
      },
      "execution_count": null,
      "outputs": [
        {
          "output_type": "stream",
          "name": "stdout",
          "text": [
            "1,2.3,{'add', 'set'},True,String,[1, 'hi', False],('tuple',),{1, 2.3, 'set'},{'hey': 'ho'},appending,[2, 3],9,0,\n",
            "\n",
            "1,2.3,{'add', 'set'},True,String,[1, 'hi', False],('tuple',),{1, 2.3, 'set'},{'hey': 'ho'},appending,[2, 3],9,0,"
          ]
        }
      ]
    },
    {
      "cell_type": "code",
      "source": [
        "li[8] = 56\n",
        "li[0:2] = [2,3]\n",
        "print(li)"
      ],
      "metadata": {
        "colab": {
          "base_uri": "https://localhost:8080/"
        },
        "id": "L5l7URD2Jl9v",
        "outputId": "8a6929fb-ec23-4412-c119-fdba15e81bc9"
      },
      "execution_count": null,
      "outputs": [
        {
          "output_type": "stream",
          "name": "stdout",
          "text": [
            "[2, 3, {'add', 'set'}, True, 'String', [1, 'hi', False], ('tuple',), {1, 2.3, 'set'}, 56, 'appending', [2, 3], 9, 0]\n"
          ]
        }
      ]
    },
    {
      "cell_type": "code",
      "source": [
        "print(li.index(56))\n",
        "# print(li.index(23)) # ValueError\n",
        "\n",
        "print(li.count(0))\n",
        "print(li.count(23))\n"
      ],
      "metadata": {
        "colab": {
          "base_uri": "https://localhost:8080/"
        },
        "id": "q3kxMvdLKw1f",
        "outputId": "33e1c238-6136-48e7-f3bf-98203458a23c"
      },
      "execution_count": null,
      "outputs": [
        {
          "output_type": "stream",
          "name": "stdout",
          "text": [
            "8\n",
            "1\n",
            "0\n"
          ]
        }
      ]
    },
    {
      "cell_type": "code",
      "source": [
        "print(56 in li)\n",
        "print(23 in li)"
      ],
      "metadata": {
        "colab": {
          "base_uri": "https://localhost:8080/"
        },
        "id": "sin7kDzzLJNy",
        "outputId": "e516026e-71ab-4d58-8c5a-02711cf53761"
      },
      "execution_count": null,
      "outputs": [
        {
          "output_type": "stream",
          "name": "stdout",
          "text": [
            "True\n",
            "False\n"
          ]
        }
      ]
    },
    {
      "cell_type": "code",
      "source": [
        "print(li.remove(9))"
      ],
      "metadata": {
        "colab": {
          "base_uri": "https://localhost:8080/"
        },
        "id": "0O8Z1X4bLVpU",
        "outputId": "aa841cf8-f45c-4405-a0a5-d80712baa4b4"
      },
      "execution_count": null,
      "outputs": [
        {
          "output_type": "stream",
          "name": "stdout",
          "text": [
            "None\n"
          ]
        }
      ]
    },
    {
      "cell_type": "code",
      "source": [
        "print(li.pop())"
      ],
      "metadata": {
        "colab": {
          "base_uri": "https://localhost:8080/"
        },
        "id": "5gSamGV6uWXi",
        "outputId": "360e6e2a-7483-409c-c083-412c1483aa07"
      },
      "execution_count": null,
      "outputs": [
        {
          "output_type": "stream",
          "name": "stdout",
          "text": [
            "0\n"
          ]
        }
      ]
    },
    {
      "cell_type": "code",
      "source": [
        "print(li.pop(1))"
      ],
      "metadata": {
        "colab": {
          "base_uri": "https://localhost:8080/"
        },
        "id": "bNCMDqSCudrG",
        "outputId": "572dbd5a-6326-4b5d-cb65-fb22a09bc95e"
      },
      "execution_count": null,
      "outputs": [
        {
          "output_type": "stream",
          "name": "stdout",
          "text": [
            "3\n"
          ]
        }
      ]
    },
    {
      "cell_type": "code",
      "source": [
        "print(any(li))"
      ],
      "metadata": {
        "colab": {
          "base_uri": "https://localhost:8080/"
        },
        "id": "LI2G8EYHuiT4",
        "outputId": "0209c5c0-7a94-4def-80b8-f996421a2715"
      },
      "execution_count": null,
      "outputs": [
        {
          "output_type": "stream",
          "name": "stdout",
          "text": [
            "True\n"
          ]
        }
      ]
    },
    {
      "cell_type": "code",
      "source": [
        "print(all(li))"
      ],
      "metadata": {
        "colab": {
          "base_uri": "https://localhost:8080/"
        },
        "id": "vLOT7BXfuvhV",
        "outputId": "ab1ec68a-3aea-4864-8edb-e9576df611df"
      },
      "execution_count": null,
      "outputs": [
        {
          "output_type": "stream",
          "name": "stdout",
          "text": [
            "True\n"
          ]
        }
      ]
    },
    {
      "cell_type": "code",
      "source": [
        "li.append(0)"
      ],
      "metadata": {
        "id": "mizL3YrDu5dx"
      },
      "execution_count": null,
      "outputs": []
    },
    {
      "cell_type": "code",
      "source": [
        "print(all(li))"
      ],
      "metadata": {
        "colab": {
          "base_uri": "https://localhost:8080/"
        },
        "id": "KOjBhYZ3vBrq",
        "outputId": "61cde56c-bfcf-4f37-ca64-df40793cbe26"
      },
      "execution_count": null,
      "outputs": [
        {
          "output_type": "stream",
          "name": "stdout",
          "text": [
            "False\n"
          ]
        }
      ]
    },
    {
      "cell_type": "code",
      "source": [
        "li = li + ['concat','list']"
      ],
      "metadata": {
        "id": "lYRVglkXvGo-"
      },
      "execution_count": null,
      "outputs": []
    },
    {
      "cell_type": "code",
      "source": [
        "print(li * 2)"
      ],
      "metadata": {
        "colab": {
          "base_uri": "https://localhost:8080/"
        },
        "id": "IiO1naBavRLK",
        "outputId": "81a9d82e-8a85-4536-de45-04758a4ccccb"
      },
      "execution_count": null,
      "outputs": [
        {
          "output_type": "stream",
          "name": "stdout",
          "text": [
            "[2, {'add', 'set'}, True, 'String', [1, 'hi', False], ('tuple',), {1, 2.3, 'set'}, 56, 'appending', [2, 3], 0, 'concat', 'list', 2, {'add', 'set'}, True, 'String', [1, 'hi', False], ('tuple',), {1, 2.3, 'set'}, 56, 'appending', [2, 3], 0, 'concat', 'list']\n"
          ]
        }
      ]
    },
    {
      "cell_type": "code",
      "source": [
        "li = [[print(i * j) for j in range(1,4)] for i in range(1,4)]"
      ],
      "metadata": {
        "colab": {
          "base_uri": "https://localhost:8080/"
        },
        "id": "-R5W0nWyvS1B",
        "outputId": "83b5d394-621b-4401-ba13-4bb6db8db4d7"
      },
      "execution_count": null,
      "outputs": [
        {
          "output_type": "stream",
          "name": "stdout",
          "text": [
            "1\n",
            "2\n",
            "3\n",
            "2\n",
            "4\n",
            "6\n",
            "3\n",
            "6\n",
            "9\n"
          ]
        }
      ]
    },
    {
      "cell_type": "code",
      "source": [
        "li"
      ],
      "metadata": {
        "colab": {
          "base_uri": "https://localhost:8080/"
        },
        "id": "nnVUC3EVwM4V",
        "outputId": "56d2d8dd-acce-4908-c5dc-ae7937b34efe"
      },
      "execution_count": null,
      "outputs": [
        {
          "output_type": "execute_result",
          "data": {
            "text/plain": [
              "[[None, None, None], [None, None, None], [None, None, None]]"
            ]
          },
          "metadata": {},
          "execution_count": 52
        }
      ]
    },
    {
      "cell_type": "code",
      "source": [
        "[print(i*j) for i in range(1,4) for j in range(5,10)]"
      ],
      "metadata": {
        "colab": {
          "base_uri": "https://localhost:8080/"
        },
        "id": "fbs4gAmWvu8D",
        "outputId": "855b4c30-8d9b-4dda-fd2e-581fdf2d04aa"
      },
      "execution_count": null,
      "outputs": [
        {
          "output_type": "stream",
          "name": "stdout",
          "text": [
            "5\n",
            "6\n",
            "7\n",
            "8\n",
            "9\n",
            "10\n",
            "12\n",
            "14\n",
            "16\n",
            "18\n",
            "15\n",
            "18\n",
            "21\n",
            "24\n",
            "27\n"
          ]
        },
        {
          "output_type": "execute_result",
          "data": {
            "text/plain": [
              "[None,\n",
              " None,\n",
              " None,\n",
              " None,\n",
              " None,\n",
              " None,\n",
              " None,\n",
              " None,\n",
              " None,\n",
              " None,\n",
              " None,\n",
              " None,\n",
              " None,\n",
              " None,\n",
              " None]"
            ]
          },
          "metadata": {},
          "execution_count": 50
        }
      ]
    },
    {
      "cell_type": "markdown",
      "source": [
        "# Tuple"
      ],
      "metadata": {
        "id": "vKByt_YPLGtv"
      }
    },
    {
      "cell_type": "code",
      "source": [
        "tup = ('hello',)\n",
        "print(type(tup))\n",
        "tup = (12,[1,2,3],{'set','let'},('its tuple'),{1:'tup'})\n",
        "print(tup)\n",
        "tup1 = tuple(tup)\n",
        "print(tup1)\n",
        "tup2 = tuple((1.2,3.4,5.6))\n",
        "print(tup2)"
      ],
      "metadata": {
        "colab": {
          "base_uri": "https://localhost:8080/"
        },
        "id": "vRpBZ4yRwBmT",
        "outputId": "0f73a2ba-d3cf-4d53-a33d-6d2366f2aced"
      },
      "execution_count": null,
      "outputs": [
        {
          "output_type": "stream",
          "name": "stdout",
          "text": [
            "<class 'tuple'>\n",
            "(12, [1, 2, 3], {'set', 'let'}, 'its tuple', {1: 'tup'})\n",
            "(12, [1, 2, 3], {'set', 'let'}, 'its tuple', {1: 'tup'})\n",
            "(1.2, 3.4, 5.6)\n"
          ]
        }
      ]
    },
    {
      "cell_type": "code",
      "source": [
        "print(tup[4])"
      ],
      "metadata": {
        "colab": {
          "base_uri": "https://localhost:8080/"
        },
        "id": "EUhQfMKtxPVm",
        "outputId": "a3ca4894-1130-476e-f122-063c357be4a5"
      },
      "execution_count": null,
      "outputs": [
        {
          "output_type": "stream",
          "name": "stdout",
          "text": [
            "{1: 'tup'}\n"
          ]
        }
      ]
    },
    {
      "cell_type": "code",
      "source": [
        "tup[1] = 1.1"
      ],
      "metadata": {
        "colab": {
          "base_uri": "https://localhost:8080/",
          "height": 175
        },
        "id": "WkFm_6Gxxg5T",
        "outputId": "22ee1cb4-1740-4efa-a2ae-132d9076afdf"
      },
      "execution_count": null,
      "outputs": [
        {
          "output_type": "error",
          "ename": "TypeError",
          "evalue": "ignored",
          "traceback": [
            "\u001b[0;31m---------------------------------------------------------------------------\u001b[0m",
            "\u001b[0;31mTypeError\u001b[0m                                 Traceback (most recent call last)",
            "\u001b[0;32m<ipython-input-55-edc629c956a8>\u001b[0m in \u001b[0;36m<cell line: 1>\u001b[0;34m()\u001b[0m\n\u001b[0;32m----> 1\u001b[0;31m \u001b[0mtup\u001b[0m\u001b[0;34m[\u001b[0m\u001b[0;36m1\u001b[0m\u001b[0;34m]\u001b[0m \u001b[0;34m=\u001b[0m \u001b[0;36m1.1\u001b[0m\u001b[0;34m\u001b[0m\u001b[0;34m\u001b[0m\u001b[0m\n\u001b[0m",
            "\u001b[0;31mTypeError\u001b[0m: 'tuple' object does not support item assignment"
          ]
        }
      ]
    },
    {
      "cell_type": "code",
      "source": [
        "del tup\n",
        "print(tup)"
      ],
      "metadata": {
        "colab": {
          "base_uri": "https://localhost:8080/",
          "height": 193
        },
        "id": "pUeyFWXGxp-G",
        "outputId": "de587b03-ffb9-4dcc-c5d2-aec58f0d22f6"
      },
      "execution_count": null,
      "outputs": [
        {
          "output_type": "error",
          "ename": "NameError",
          "evalue": "ignored",
          "traceback": [
            "\u001b[0;31m---------------------------------------------------------------------------\u001b[0m",
            "\u001b[0;31mNameError\u001b[0m                                 Traceback (most recent call last)",
            "\u001b[0;32m<ipython-input-56-bcdbccb5f0f8>\u001b[0m in \u001b[0;36m<cell line: 2>\u001b[0;34m()\u001b[0m\n\u001b[1;32m      1\u001b[0m \u001b[0;32mdel\u001b[0m \u001b[0mtup\u001b[0m\u001b[0;34m\u001b[0m\u001b[0;34m\u001b[0m\u001b[0m\n\u001b[0;32m----> 2\u001b[0;31m \u001b[0mprint\u001b[0m\u001b[0;34m(\u001b[0m\u001b[0mtup\u001b[0m\u001b[0;34m)\u001b[0m\u001b[0;34m\u001b[0m\u001b[0;34m\u001b[0m\u001b[0m\n\u001b[0m",
            "\u001b[0;31mNameError\u001b[0m: name 'tup' is not defined"
          ]
        }
      ]
    },
    {
      "cell_type": "code",
      "source": [
        "print(tup1)\n",
        "tup1 + (2,)\n",
        "print(tup1)\n",
        "tup2 = tup1 + (2,)\n",
        "print(tup1)\n",
        "print(tup2)\n",
        "\n",
        "tup3 = sum((tup1,tup2),())\n",
        "print(tup3)\n",
        "tup3 = tup1 + tup2\n",
        "print(tup3)\n",
        "\n",
        "li = [(2,4.5),(1,3.4),(0,5.5)]\n",
        "sorted(li)"
      ],
      "metadata": {
        "colab": {
          "base_uri": "https://localhost:8080/"
        },
        "id": "67nzmvkmyZ0o",
        "outputId": "10c0c07f-b725-4eff-d33e-fe0d1f24aec8"
      },
      "execution_count": null,
      "outputs": [
        {
          "output_type": "stream",
          "name": "stdout",
          "text": [
            "(12, [1, 2, 3], {'set', 'let'}, 'its tuple', {1: 'tup'})\n",
            "(12, [1, 2, 3], {'set', 'let'}, 'its tuple', {1: 'tup'})\n",
            "(12, [1, 2, 3], {'set', 'let'}, 'its tuple', {1: 'tup'})\n",
            "(12, [1, 2, 3], {'set', 'let'}, 'its tuple', {1: 'tup'}, 2)\n",
            "(12, [1, 2, 3], {'set', 'let'}, 'its tuple', {1: 'tup'}, 12, [1, 2, 3], {'set', 'let'}, 'its tuple', {1: 'tup'}, 2)\n",
            "(12, [1, 2, 3], {'set', 'let'}, 'its tuple', {1: 'tup'}, 12, [1, 2, 3], {'set', 'let'}, 'its tuple', {1: 'tup'}, 2)\n"
          ]
        },
        {
          "output_type": "execute_result",
          "data": {
            "text/plain": [
              "[(0, 5.5), (1, 3.4), (2, 4.5)]"
            ]
          },
          "metadata": {},
          "execution_count": 27
        }
      ]
    },
    {
      "cell_type": "code",
      "source": [
        "import itertools\n",
        "tup4 = (item for item in itertools.chain(tup1,tup2))\n",
        "print()"
      ],
      "metadata": {
        "colab": {
          "base_uri": "https://localhost:8080/",
          "height": 210
        },
        "id": "w6ezsgLc0HvT",
        "outputId": "5444387e-60a4-44e5-bc3b-9c0ed2173cb9"
      },
      "execution_count": null,
      "outputs": [
        {
          "output_type": "error",
          "ename": "TypeError",
          "evalue": "ignored",
          "traceback": [
            "\u001b[0;31m---------------------------------------------------------------------------\u001b[0m",
            "\u001b[0;31mTypeError\u001b[0m                                 Traceback (most recent call last)",
            "\u001b[0;32m<ipython-input-62-8e81945f94df>\u001b[0m in \u001b[0;36m<cell line: 3>\u001b[0;34m()\u001b[0m\n\u001b[1;32m      1\u001b[0m \u001b[0;32mimport\u001b[0m \u001b[0mitertools\u001b[0m\u001b[0;34m\u001b[0m\u001b[0;34m\u001b[0m\u001b[0m\n\u001b[1;32m      2\u001b[0m \u001b[0mtup4\u001b[0m \u001b[0;34m=\u001b[0m \u001b[0;34m(\u001b[0m\u001b[0mitem\u001b[0m \u001b[0;32mfor\u001b[0m \u001b[0mitem\u001b[0m \u001b[0;32min\u001b[0m \u001b[0mitertools\u001b[0m\u001b[0;34m.\u001b[0m\u001b[0mchain\u001b[0m\u001b[0;34m(\u001b[0m\u001b[0mtup1\u001b[0m\u001b[0;34m,\u001b[0m\u001b[0mtup2\u001b[0m\u001b[0;34m)\u001b[0m\u001b[0;34m)\u001b[0m\u001b[0;34m\u001b[0m\u001b[0;34m\u001b[0m\u001b[0m\n\u001b[0;32m----> 3\u001b[0;31m \u001b[0mprint\u001b[0m\u001b[0;34m(\u001b[0m\u001b[0mtup4\u001b[0m\u001b[0;34m[\u001b[0m\u001b[0;36m1\u001b[0m\u001b[0;34m]\u001b[0m\u001b[0;34m)\u001b[0m\u001b[0;34m\u001b[0m\u001b[0;34m\u001b[0m\u001b[0m\n\u001b[0m",
            "\u001b[0;31mTypeError\u001b[0m: 'generator' object is not subscriptable"
          ]
        }
      ]
    },
    {
      "cell_type": "code",
      "source": [
        "print(tup1 * 2)"
      ],
      "metadata": {
        "colab": {
          "base_uri": "https://localhost:8080/"
        },
        "id": "8n_yynqdyubl",
        "outputId": "10b72b24-3cf9-426a-b588-0ce9377a357d"
      },
      "execution_count": null,
      "outputs": [
        {
          "output_type": "stream",
          "name": "stdout",
          "text": [
            "(12, [1, 2, 3], {'let', 'set'}, 'its tuple', {1: 'tup'}, 12, [1, 2, 3], {'let', 'set'}, 'its tuple', {1: 'tup'})\n"
          ]
        }
      ]
    },
    {
      "cell_type": "code",
      "source": [
        "print(tup1)"
      ],
      "metadata": {
        "colab": {
          "base_uri": "https://localhost:8080/"
        },
        "id": "gX2HZUYWzGKE",
        "outputId": "372f968d-d497-4ffd-9221-179131367378"
      },
      "execution_count": null,
      "outputs": [
        {
          "output_type": "stream",
          "name": "stdout",
          "text": [
            "(12, [1, 2, 3], {'let', 'set'}, 'its tuple', {1: 'tup'})\n"
          ]
        }
      ]
    },
    {
      "cell_type": "code",
      "source": [
        "for i in tup3:\n",
        "  print(i,end=',')"
      ],
      "metadata": {
        "colab": {
          "base_uri": "https://localhost:8080/"
        },
        "id": "Svb375uxzIl6",
        "outputId": "68d88b17-0b2a-443d-dd5a-4421a23cb8c1"
      },
      "execution_count": null,
      "outputs": [
        {
          "output_type": "stream",
          "name": "stdout",
          "text": [
            "12,[1, 2, 3],{'let', 'set'},its tuple,{1: 'tup'},12,[1, 2, 3],{'let', 'set'},its tuple,{1: 'tup'},2,"
          ]
        }
      ]
    },
    {
      "cell_type": "code",
      "source": [
        "print(any(tup3))"
      ],
      "metadata": {
        "colab": {
          "base_uri": "https://localhost:8080/"
        },
        "id": "E0ZWuc2k0j6m",
        "outputId": "02eb3239-1f4b-4609-d6a3-c82cedc75497"
      },
      "execution_count": null,
      "outputs": [
        {
          "output_type": "stream",
          "name": "stdout",
          "text": [
            "True\n"
          ]
        }
      ]
    },
    {
      "cell_type": "code",
      "source": [
        "print(all(tup3))"
      ],
      "metadata": {
        "colab": {
          "base_uri": "https://localhost:8080/"
        },
        "id": "zoOd27Z40owg",
        "outputId": "a4dbf9c8-74d6-49eb-81c9-2005ef7d1684"
      },
      "execution_count": null,
      "outputs": [
        {
          "output_type": "stream",
          "name": "stdout",
          "text": [
            "True\n"
          ]
        }
      ]
    },
    {
      "cell_type": "code",
      "source": [
        "tup5 = ((1,1.23),(2,0.44),(3,0),(4,-0.1))\n",
        "# print(sum(tup5))\n",
        "\n",
        "# print(min(tup5))\n",
        "# print(max(tup5))\n",
        "print(sorted(tup5,reverse=True))"
      ],
      "metadata": {
        "colab": {
          "base_uri": "https://localhost:8080/"
        },
        "id": "fdHOPKva0quo",
        "outputId": "c85db8d7-ff22-4fcd-edc4-e995cf8e2889"
      },
      "execution_count": null,
      "outputs": [
        {
          "output_type": "stream",
          "name": "stdout",
          "text": [
            "[(4, -0.1), (3, 0), (2, 0.44), (1, 1.23)]\n"
          ]
        }
      ]
    },
    {
      "cell_type": "code",
      "source": [
        "t,u,p=(1,2,3)\n",
        "print(t,u,p)"
      ],
      "metadata": {
        "colab": {
          "base_uri": "https://localhost:8080/"
        },
        "id": "WFL805sJ0vW1",
        "outputId": "7d5af70a-08f7-458c-f5c3-d14414d26845"
      },
      "execution_count": null,
      "outputs": [
        {
          "output_type": "stream",
          "name": "stdout",
          "text": [
            "1 2 3\n"
          ]
        }
      ]
    },
    {
      "cell_type": "code",
      "source": [
        "t,u,p = (1,2,3,4,5)"
      ],
      "metadata": {
        "colab": {
          "base_uri": "https://localhost:8080/",
          "height": 175
        },
        "id": "7Z1_yjMo1kBd",
        "outputId": "fe933281-3b67-4c11-d177-304b07873100"
      },
      "execution_count": null,
      "outputs": [
        {
          "output_type": "error",
          "ename": "ValueError",
          "evalue": "ignored",
          "traceback": [
            "\u001b[0;31m---------------------------------------------------------------------------\u001b[0m",
            "\u001b[0;31mValueError\u001b[0m                                Traceback (most recent call last)",
            "\u001b[0;32m<ipython-input-70-9e68dacb06f5>\u001b[0m in \u001b[0;36m<cell line: 1>\u001b[0;34m()\u001b[0m\n\u001b[0;32m----> 1\u001b[0;31m \u001b[0mt\u001b[0m\u001b[0;34m,\u001b[0m\u001b[0mu\u001b[0m\u001b[0;34m,\u001b[0m\u001b[0mp\u001b[0m \u001b[0;34m=\u001b[0m \u001b[0;34m(\u001b[0m\u001b[0;36m1\u001b[0m\u001b[0;34m,\u001b[0m\u001b[0;36m2\u001b[0m\u001b[0;34m,\u001b[0m\u001b[0;36m3\u001b[0m\u001b[0;34m,\u001b[0m\u001b[0;36m4\u001b[0m\u001b[0;34m,\u001b[0m\u001b[0;36m5\u001b[0m\u001b[0;34m)\u001b[0m\u001b[0;34m\u001b[0m\u001b[0;34m\u001b[0m\u001b[0m\n\u001b[0m",
            "\u001b[0;31mValueError\u001b[0m: too many values to unpack (expected 3)"
          ]
        }
      ]
    },
    {
      "cell_type": "code",
      "source": [
        "t,u,p,*others = (1,2,3,4,5,6)\n",
        "print(t,u,p)\n",
        "print(others)"
      ],
      "metadata": {
        "colab": {
          "base_uri": "https://localhost:8080/"
        },
        "id": "mUwU60qG1nmG",
        "outputId": "8ec18845-8509-4118-849b-9cc7d8acdf5b"
      },
      "execution_count": null,
      "outputs": [
        {
          "output_type": "stream",
          "name": "stdout",
          "text": [
            "1 2 3\n",
            "[4, 5, 6]\n"
          ]
        }
      ]
    },
    {
      "cell_type": "code",
      "source": [],
      "metadata": {
        "id": "IBI0oWhm1yEZ"
      },
      "execution_count": null,
      "outputs": []
    },
    {
      "cell_type": "markdown",
      "source": [
        "# Sets\n",
        "\n",
        "* Unordered\n",
        "* Mutable but doesnt allow mutable items\n",
        "* No duplicates\n",
        "* Heterogenous"
      ],
      "metadata": {
        "id": "VNBPC8-Bgwzd"
      }
    },
    {
      "cell_type": "markdown",
      "source": [
        "Creation"
      ],
      "metadata": {
        "id": "XBZG8lpxhG30"
      }
    },
    {
      "cell_type": "code",
      "source": [
        "s1 = set()\n",
        "print(type(s1))\n",
        "s1 = {}\n",
        "print(type(s1))\n",
        "s2 = {1,2.3,True,'String',(1,'tuple')}\n",
        "print(s2)\n",
        "s3 = set([1,1,2,3,4,4])\n",
        "print(s3)\n",
        "\n",
        "s4 = {1,2,[3,4]}\n",
        "s3 = {1,1,2,3,4,4}"
      ],
      "metadata": {
        "colab": {
          "base_uri": "https://localhost:8080/",
          "height": 297
        },
        "id": "AJQBAqeJgxX3",
        "outputId": "0bfde17a-65dd-4da5-da80-babd72de85c0"
      },
      "execution_count": null,
      "outputs": [
        {
          "output_type": "stream",
          "name": "stdout",
          "text": [
            "<class 'set'>\n",
            "<class 'dict'>\n",
            "{1, 2.3, 'String', (1, 'tuple')}\n",
            "{1, 2, 3, 4}\n"
          ]
        },
        {
          "output_type": "error",
          "ename": "TypeError",
          "evalue": "ignored",
          "traceback": [
            "\u001b[0;31m---------------------------------------------------------------------------\u001b[0m",
            "\u001b[0;31mTypeError\u001b[0m                                 Traceback (most recent call last)",
            "\u001b[0;32m<ipython-input-6-d0e698a9bdef>\u001b[0m in \u001b[0;36m<cell line: 10>\u001b[0;34m()\u001b[0m\n\u001b[1;32m      8\u001b[0m \u001b[0mprint\u001b[0m\u001b[0;34m(\u001b[0m\u001b[0ms3\u001b[0m\u001b[0;34m)\u001b[0m\u001b[0;34m\u001b[0m\u001b[0;34m\u001b[0m\u001b[0m\n\u001b[1;32m      9\u001b[0m \u001b[0;34m\u001b[0m\u001b[0m\n\u001b[0;32m---> 10\u001b[0;31m \u001b[0ms4\u001b[0m \u001b[0;34m=\u001b[0m \u001b[0;34m{\u001b[0m\u001b[0;36m1\u001b[0m\u001b[0;34m,\u001b[0m\u001b[0;36m2\u001b[0m\u001b[0;34m,\u001b[0m\u001b[0;34m[\u001b[0m\u001b[0;36m3\u001b[0m\u001b[0;34m,\u001b[0m\u001b[0;36m4\u001b[0m\u001b[0;34m]\u001b[0m\u001b[0;34m}\u001b[0m\u001b[0;34m\u001b[0m\u001b[0;34m\u001b[0m\u001b[0m\n\u001b[0m\u001b[1;32m     11\u001b[0m \u001b[0ms3\u001b[0m \u001b[0;34m=\u001b[0m \u001b[0;34m{\u001b[0m\u001b[0;36m1\u001b[0m\u001b[0;34m,\u001b[0m\u001b[0;36m1\u001b[0m\u001b[0;34m,\u001b[0m\u001b[0;36m2\u001b[0m\u001b[0;34m,\u001b[0m\u001b[0;36m3\u001b[0m\u001b[0;34m,\u001b[0m\u001b[0;36m4\u001b[0m\u001b[0;34m,\u001b[0m\u001b[0;36m4\u001b[0m\u001b[0;34m}\u001b[0m\u001b[0;34m\u001b[0m\u001b[0;34m\u001b[0m\u001b[0m\n",
            "\u001b[0;31mTypeError\u001b[0m: unhashable type: 'list'"
          ]
        }
      ]
    },
    {
      "cell_type": "markdown",
      "source": [
        "Access"
      ],
      "metadata": {
        "id": "ymVNdtWygxlh"
      }
    },
    {
      "cell_type": "code",
      "source": [
        "s2[0]"
      ],
      "metadata": {
        "colab": {
          "base_uri": "https://localhost:8080/",
          "height": 175
        },
        "id": "3NFGSTSdgx0J",
        "outputId": "4478e446-e014-4c20-efdd-45ced86c796b"
      },
      "execution_count": null,
      "outputs": [
        {
          "output_type": "error",
          "ename": "TypeError",
          "evalue": "ignored",
          "traceback": [
            "\u001b[0;31m---------------------------------------------------------------------------\u001b[0m",
            "\u001b[0;31mTypeError\u001b[0m                                 Traceback (most recent call last)",
            "\u001b[0;32m<ipython-input-3-ab7c8e26b0d3>\u001b[0m in \u001b[0;36m<cell line: 1>\u001b[0;34m()\u001b[0m\n\u001b[0;32m----> 1\u001b[0;31m \u001b[0ms2\u001b[0m\u001b[0;34m[\u001b[0m\u001b[0;36m0\u001b[0m\u001b[0;34m]\u001b[0m\u001b[0;34m\u001b[0m\u001b[0;34m\u001b[0m\u001b[0m\n\u001b[0m",
            "\u001b[0;31mTypeError\u001b[0m: 'set' object is not subscriptable"
          ]
        }
      ]
    },
    {
      "cell_type": "markdown",
      "source": [
        "Edit"
      ],
      "metadata": {
        "id": "nj6kYMlFgyAv"
      }
    },
    {
      "cell_type": "code",
      "source": [
        "s2[0] = 100"
      ],
      "metadata": {
        "colab": {
          "base_uri": "https://localhost:8080/",
          "height": 175
        },
        "id": "xWyrV9g2gyig",
        "outputId": "667f34f1-46ab-4f97-c0b7-8a51bb0217b0"
      },
      "execution_count": null,
      "outputs": [
        {
          "output_type": "error",
          "ename": "TypeError",
          "evalue": "ignored",
          "traceback": [
            "\u001b[0;31m---------------------------------------------------------------------------\u001b[0m",
            "\u001b[0;31mTypeError\u001b[0m                                 Traceback (most recent call last)",
            "\u001b[0;32m<ipython-input-4-5282e04f1976>\u001b[0m in \u001b[0;36m<cell line: 1>\u001b[0;34m()\u001b[0m\n\u001b[0;32m----> 1\u001b[0;31m \u001b[0ms2\u001b[0m\u001b[0;34m[\u001b[0m\u001b[0;36m0\u001b[0m\u001b[0;34m]\u001b[0m \u001b[0;34m=\u001b[0m \u001b[0;36m100\u001b[0m\u001b[0;34m\u001b[0m\u001b[0;34m\u001b[0m\u001b[0m\n\u001b[0m",
            "\u001b[0;31mTypeError\u001b[0m: 'set' object does not support item assignment"
          ]
        }
      ]
    },
    {
      "cell_type": "markdown",
      "source": [
        "Add"
      ],
      "metadata": {
        "id": "a42Szfkqgzlf"
      }
    },
    {
      "cell_type": "code",
      "source": [
        "s2.add('add element')\n",
        "print(s2)\n",
        "s2.update([3.4,('adding tuple',)])\n",
        "print(s2)"
      ],
      "metadata": {
        "colab": {
          "base_uri": "https://localhost:8080/"
        },
        "id": "_6h8LFgFgzz3",
        "outputId": "7c3d0ae9-603f-46a5-bbf9-6cf5ef90698b"
      },
      "execution_count": null,
      "outputs": [
        {
          "output_type": "stream",
          "name": "stdout",
          "text": [
            "{1, 2.3, 'add element', (1, 'tuple'), 'String'}\n",
            "{1, 2.3, 'add element', 3.4, ('adding tuple',), (1, 'tuple'), 'String'}\n"
          ]
        }
      ]
    },
    {
      "cell_type": "markdown",
      "source": [
        "Delete"
      ],
      "metadata": {
        "id": "UMq0h4f4g0Ak"
      }
    },
    {
      "cell_type": "code",
      "source": [
        "s3 = set([1,1,2,3,4,4])\n",
        "s3.remove(3)\n",
        "s3.discard(4)\n",
        "s3.pop()\n",
        "s3.discard(5)\n",
        "# s3.remove(5)\n",
        "# del s3[0] # TypeError: 'set' object doesn't support item deletion\n",
        "s3.clear()\n",
        "print(s3)\n",
        "del s3"
      ],
      "metadata": {
        "colab": {
          "base_uri": "https://localhost:8080/"
        },
        "id": "tL34soeJg0Ok",
        "outputId": "8732aa63-e05d-4a0f-9d11-4f1b85430064"
      },
      "execution_count": null,
      "outputs": [
        {
          "output_type": "stream",
          "name": "stdout",
          "text": [
            "set()\n"
          ]
        }
      ]
    },
    {
      "cell_type": "markdown",
      "source": [
        "Operations"
      ],
      "metadata": {
        "id": "gpJ9dnDwg0aq"
      }
    },
    {
      "cell_type": "code",
      "source": [
        "s1 = {1,2,3,4,5}\n",
        "s2 = {4,5,6,7,8}\n",
        "\n",
        "# union - |\n",
        "print(s1 | s2)\n",
        "\n",
        "# intersection - &\n",
        "print(s1 & s2)\n",
        "\n",
        "# difference - '-'\n",
        "print(s1 - s2)\n",
        "\n",
        "# symmetric difference - '^'\n",
        "print(s1 ^ s2)"
      ],
      "metadata": {
        "colab": {
          "base_uri": "https://localhost:8080/"
        },
        "id": "aSfSukHzg0pn",
        "outputId": "b0c3d2c5-940c-4d19-a7d2-22ad9643ca4f"
      },
      "execution_count": null,
      "outputs": [
        {
          "output_type": "stream",
          "name": "stdout",
          "text": [
            "{1, 2, 3, 4, 5, 6, 7, 8}\n",
            "{4, 5}\n",
            "{1, 2, 3}\n",
            "{1, 2, 3, 6, 7, 8}\n"
          ]
        }
      ]
    },
    {
      "cell_type": "markdown",
      "source": [
        "Functions"
      ],
      "metadata": {
        "id": "x-ce4NRRg02x"
      }
    },
    {
      "cell_type": "code",
      "source": [
        "s1 = {1,2,3,4,5}\n",
        "s2 = s1\n",
        "print(s2)\n",
        "s2.add(10)\n",
        "print(s1)\n",
        "\n",
        "s3 = s1.copy()\n",
        "print(s3)\n",
        "s3.update({9,8})\n",
        "print(s3)\n",
        "print(s1)"
      ],
      "metadata": {
        "colab": {
          "base_uri": "https://localhost:8080/"
        },
        "id": "MoejzeFp-0pX",
        "outputId": "f76362ac-6670-421d-bec2-4c773fec2e4e"
      },
      "execution_count": null,
      "outputs": [
        {
          "output_type": "stream",
          "name": "stdout",
          "text": [
            "{1, 2, 3, 4, 5}\n",
            "{1, 2, 3, 4, 5, 10}\n",
            "{1, 2, 3, 4, 5, 10}\n",
            "{1, 2, 3, 4, 5, 8, 9, 10}\n",
            "{1, 2, 3, 4, 5, 10}\n"
          ]
        }
      ]
    },
    {
      "cell_type": "code",
      "source": [
        "s1 = {1,2,3,4,5}\n",
        "s2 = {4,5,6,7,8}\n",
        "\n",
        "s3 = s1.union(s2)\n",
        "print(s1)\n",
        "print(s3)\n",
        "s1.update(s2)\n",
        "print(s1)\n",
        "\n",
        "s1 = {1,2,3,4,5}\n",
        "s3 = s1.intersection(s2)\n",
        "print(s3)\n",
        "s1.intersection_update(s2)\n",
        "print(s1)\n",
        "\n",
        "s1 = {1,2,3,4,5}\n",
        "s3 = s1.difference(s2)\n",
        "print(s3)\n",
        "s1.difference_update(s2)\n",
        "print(s1)\n",
        "\n",
        "s1 = {1,2,3,4,5}\n",
        "s3 = s1.symmetric_difference(s2)\n",
        "print(s3)\n",
        "s1.symmetric_difference_update(s2)\n",
        "print(s1)\n"
      ],
      "metadata": {
        "colab": {
          "base_uri": "https://localhost:8080/"
        },
        "id": "hyoaMrZzg1L0",
        "outputId": "71ab1de3-2b25-4577-f85a-a7ec1f404fb1"
      },
      "execution_count": null,
      "outputs": [
        {
          "output_type": "stream",
          "name": "stdout",
          "text": [
            "{1, 2, 3, 4, 5}\n",
            "{1, 2, 3, 4, 5, 6, 7, 8}\n",
            "{1, 2, 3, 4, 5, 6, 7, 8}\n",
            "{4, 5}\n",
            "{4, 5}\n",
            "{1, 2, 3}\n",
            "{1, 2, 3}\n",
            "{1, 2, 3, 6, 7, 8}\n",
            "{1, 2, 3, 6, 7, 8}\n"
          ]
        }
      ]
    },
    {
      "cell_type": "code",
      "source": [
        "print(s1.isdisjoint(s2))\n",
        "print({1, 2, 3}.isdisjoint(s2))\n",
        "print(s1.issuperset(s2))\n",
        "print({1, 2, 3, 4, 5, 6, 7, 8}.issuperset(s2))\n",
        "print(s1.issubset(s2))\n",
        "print({4, 5}.issubset(s2))"
      ],
      "metadata": {
        "colab": {
          "base_uri": "https://localhost:8080/"
        },
        "id": "lWScdqvv9886",
        "outputId": "227e3f63-8c89-41ec-ce30-1b69f07dbf68"
      },
      "execution_count": null,
      "outputs": [
        {
          "output_type": "stream",
          "name": "stdout",
          "text": [
            "False\n",
            "True\n",
            "False\n",
            "True\n",
            "False\n",
            "True\n"
          ]
        }
      ]
    },
    {
      "cell_type": "code",
      "source": [
        "print(len(s1))\n",
        "print(sum(s1))\n",
        "print(min(s1))\n",
        "print(max(s1))\n",
        "print(sorted(s1,reverse=True))\n",
        "print(any(s1))\n",
        "print(all(s1))\n",
        "print(any(set()))\n",
        "print(all(set()))"
      ],
      "metadata": {
        "colab": {
          "base_uri": "https://localhost:8080/"
        },
        "id": "UMEmLznn8rxK",
        "outputId": "40ca912a-47d7-4a94-da0e-5c16b40809b4"
      },
      "execution_count": null,
      "outputs": [
        {
          "output_type": "stream",
          "name": "stdout",
          "text": [
            "6\n",
            "27\n",
            "1\n",
            "8\n",
            "[8, 7, 6, 3, 2, 1]\n",
            "True\n",
            "True\n",
            "False\n",
            "True\n"
          ]
        }
      ]
    },
    {
      "cell_type": "code",
      "source": [],
      "metadata": {
        "id": "xNf-pRzJ9LVo"
      },
      "execution_count": null,
      "outputs": []
    },
    {
      "cell_type": "markdown",
      "source": [
        "# FrozenSet\n",
        "\n",
        "Frozenset is an immutable version of set"
      ],
      "metadata": {
        "id": "l8ipGEi4_lw0"
      }
    },
    {
      "cell_type": "code",
      "source": [
        "fs1 = frozenset([1,2,3,4])\n",
        "print(fs1)\n",
        "\n",
        "fs2 = frozenset({56,67,78})\n",
        "print(fs2)\n",
        "\n",
        "fs3 = frozenset({1, 2.3, 'add element', 3.4, ('adding tuple',), (1, 'tuple'), 'String'})\n",
        "print(fs3)"
      ],
      "metadata": {
        "colab": {
          "base_uri": "https://localhost:8080/"
        },
        "id": "RIaAQunS_y3j",
        "outputId": "2e68c921-2d54-4e38-a231-5330dc30d628"
      },
      "execution_count": null,
      "outputs": [
        {
          "output_type": "stream",
          "name": "stdout",
          "text": [
            "frozenset({1, 2, 3, 4})\n",
            "frozenset({56, 67, 78})\n",
            "frozenset({1, 2.3, 3.4, 'add element', (1, 'tuple'), ('adding tuple',), 'String'})\n"
          ]
        }
      ]
    },
    {
      "cell_type": "code",
      "source": [
        "for s in fs3:\n",
        "  print(s)"
      ],
      "metadata": {
        "colab": {
          "base_uri": "https://localhost:8080/"
        },
        "id": "hFetix_SB3ua",
        "outputId": "c6579a91-83dd-42f4-cd53-c5c5c9be3380"
      },
      "execution_count": null,
      "outputs": [
        {
          "output_type": "stream",
          "name": "stdout",
          "text": [
            "1\n",
            "2.3\n",
            "3.4\n",
            "add element\n",
            "(1, 'tuple')\n",
            "('adding tuple',)\n",
            "String\n"
          ]
        }
      ]
    },
    {
      "cell_type": "code",
      "source": [
        "print(fs3.difference(fs1))\n",
        "print(fs3.union(fs1))\n",
        "print(fs3.intersection(fs1))\n",
        "print(fs3.symmetric_difference(fs1))\n",
        "print(fs3.isdisjoint(fs1))\n",
        "print(fs3.issuperset(fs1))\n",
        "print(fs3.issubset(fs1))\n",
        "\n",
        "fs4 = fs1\n",
        "print(fs4)\n",
        "fs5 = fs4.copy()\n",
        "print(fs5)"
      ],
      "metadata": {
        "colab": {
          "base_uri": "https://localhost:8080/"
        },
        "id": "0U050zKYCUdE",
        "outputId": "308095ca-6d6c-44d4-a998-0016545ff155"
      },
      "execution_count": null,
      "outputs": [
        {
          "output_type": "stream",
          "name": "stdout",
          "text": [
            "frozenset({2.3, 3.4, 'add element', ('adding tuple',), (1, 'tuple'), 'String'})\n",
            "frozenset({1, 2.3, 3.4, 'add element', 2, 3, ('adding tuple',), 4, (1, 'tuple'), 'String'})\n",
            "frozenset({1})\n",
            "frozenset({2, 3, 4, 2.3, 3.4, 'add element', ('adding tuple',), (1, 'tuple'), 'String'})\n",
            "False\n",
            "False\n",
            "False\n",
            "frozenset({1, 2, 3, 4})\n",
            "frozenset({1, 2, 3, 4})\n"
          ]
        }
      ]
    },
    {
      "cell_type": "code",
      "source": [
        "fs6 = frozenset([1,2,frozenset([1,2,True,'string',frozenset([('tuple',),'string'])])])\n",
        "print(fs6)"
      ],
      "metadata": {
        "colab": {
          "base_uri": "https://localhost:8080/"
        },
        "id": "Pv0L8ht8D1Uq",
        "outputId": "53d5c9ab-96b2-423a-9034-c051d112862b"
      },
      "execution_count": null,
      "outputs": [
        {
          "output_type": "stream",
          "name": "stdout",
          "text": [
            "frozenset({1, 2, frozenset({1, 2, frozenset({('tuple',), 'string'}), 'string'})})\n"
          ]
        }
      ]
    },
    {
      "cell_type": "code",
      "source": [],
      "metadata": {
        "id": "1ILrbhIiEPPj"
      },
      "execution_count": null,
      "outputs": []
    },
    {
      "cell_type": "markdown",
      "source": [
        "# Dictionary\n",
        "\n",
        "* Ordered\n",
        "* Keys : Immutable, Values : Mutable\n",
        "* Keys,Values : Heterogeneous\n",
        "* Keys : No duplicate, Values : can be duplicate"
      ],
      "metadata": {
        "id": "Ze_34nb6WsH9"
      }
    },
    {
      "cell_type": "markdown",
      "source": [
        "Creation"
      ],
      "metadata": {
        "id": "Uz-rof88bkHw"
      }
    },
    {
      "cell_type": "code",
      "source": [
        "d1 = {}\n",
        "d1 = dict()\n",
        "d1 = {'Id' : 1, 'Name' : 'Sejal', 'age' : 29, 'course' : 'ECE', 'marks' : {'Maths' : 89, 'Electronics' : 42, 'DSP' : 67, 'Network Systems' : 78}}\n",
        "print(d1)\n",
        "d2 = dict([(1,'name'),(2,'age'),(3,'course'),(4,'marks')])\n",
        "print(d2)\n",
        "d3 = {(1,2,3):'tuple',1.2 : 3.4,True:[1,2,3]}\n",
        "print(d3)\n",
        "d3 = {'name':'sejal','name':'satish'}\n",
        "print(d3)\n"
      ],
      "metadata": {
        "colab": {
          "base_uri": "https://localhost:8080/"
        },
        "id": "Lmib7CewWsd3",
        "outputId": "4991643b-011a-4b94-c6a9-d79465981e2c"
      },
      "execution_count": null,
      "outputs": [
        {
          "output_type": "stream",
          "name": "stdout",
          "text": [
            "{'Id': 1, 'Name': 'Sejal', 'age': 29, 'course': 'ECE', 'marks': {'Maths': 89, 'Electronics': 42, 'DSP': 67, 'Network Systems': 78}}\n",
            "{1: 'name', 2: 'age', 3: 'course', 4: 'marks'}\n",
            "{(1, 2, 3): 'tuple', 1.2: 3.4, True: [1, 2, 3]}\n",
            "{'name': 'satish'}\n"
          ]
        }
      ]
    },
    {
      "cell_type": "markdown",
      "source": [
        "Access"
      ],
      "metadata": {
        "id": "IuG3hZtWWs6v"
      }
    },
    {
      "cell_type": "code",
      "source": [
        "d1 = {'Id' : 1, 'Name' : 'Sejal', 'age' : 29, 'course' : 'ECE', 'marks' : {'Maths' : 89, 'Electronics' : 42, 'DSP' : 67, 'Network Systems' : 78}}\n",
        "\n",
        "print(d1['Id'])\n",
        "print(d1.get('age'))\n",
        "print(d1['marks']['DSP'])\n",
        "\n",
        "for key in d1:\n",
        "  print(key,d1[key])\n",
        "\n",
        "for key in d1.keys():\n",
        "  print(key,':',d1[key],end=',')\n",
        "\n",
        "print('\\n')\n",
        "for val in d1.values():\n",
        "  print(val,end=',')\n",
        "\n",
        "print('\\n')\n",
        "for item in d1.items():\n",
        "  print(item[0],':',item[1],end=',')\n"
      ],
      "metadata": {
        "colab": {
          "base_uri": "https://localhost:8080/"
        },
        "id": "XAjXF3gmWtHG",
        "outputId": "93a9c207-1747-43b4-ce05-f694372b77cc"
      },
      "execution_count": null,
      "outputs": [
        {
          "output_type": "stream",
          "name": "stdout",
          "text": [
            "1\n",
            "29\n",
            "67\n",
            "Id 1\n",
            "Name Sejal\n",
            "age 29\n",
            "course ECE\n",
            "marks {'Maths': 89, 'Electronics': 42, 'DSP': 67, 'Network Systems': 78}\n",
            "Id : 1,Name : Sejal,age : 29,course : ECE,marks : {'Maths': 89, 'Electronics': 42, 'DSP': 67, 'Network Systems': 78},\n",
            "\n",
            "1,Sejal,29,ECE,{'Maths': 89, 'Electronics': 42, 'DSP': 67, 'Network Systems': 78},\n",
            "\n",
            "Id : 1,Name : Sejal,age : 29,course : ECE,marks : {'Maths': 89, 'Electronics': 42, 'DSP': 67, 'Network Systems': 78},"
          ]
        }
      ]
    },
    {
      "cell_type": "markdown",
      "source": [
        "Adding"
      ],
      "metadata": {
        "id": "tjfpYZh1WtUH"
      }
    },
    {
      "cell_type": "code",
      "source": [
        "d2 = dict([(1,'name'),(2,'age'),(3,'course'),(4,'marks')])\n",
        "\n",
        "d2[0] = 'Id'\n",
        "print(d2)\n",
        "\n",
        "d2[5] = 'gender'\n",
        "print(d2)\n",
        "\n",
        "d2.update({'fire':'cracker','action':'kaboom'})\n",
        "print(d2)\n",
        "print(d2.get(''))"
      ],
      "metadata": {
        "colab": {
          "base_uri": "https://localhost:8080/"
        },
        "id": "gZBfWc-TWtf3",
        "outputId": "28704592-8ed5-4260-ee81-b6751752cec0"
      },
      "execution_count": null,
      "outputs": [
        {
          "output_type": "stream",
          "name": "stdout",
          "text": [
            "{1: 'name', 2: 'age', 3: 'course', 4: 'marks', 0: 'Id'}\n",
            "{1: 'name', 2: 'age', 3: 'course', 4: 'marks', 0: 'Id', 5: 'gender'}\n",
            "{1: 'name', 2: 'age', 3: 'course', 4: 'marks', 0: 'Id', 5: 'gender', 'fire': 'cracker', 'action': 'kaboom'}\n"
          ]
        }
      ]
    },
    {
      "cell_type": "markdown",
      "source": [
        "Edit"
      ],
      "metadata": {
        "id": "g5I1a9VnWtqa"
      }
    },
    {
      "cell_type": "code",
      "source": [
        "d2[4] = 'scores'\n",
        "print(d2)"
      ],
      "metadata": {
        "colab": {
          "base_uri": "https://localhost:8080/"
        },
        "id": "joEXEiwLWt2B",
        "outputId": "598a0156-a750-4bbb-8885-ef41afd606b4"
      },
      "execution_count": null,
      "outputs": [
        {
          "output_type": "stream",
          "name": "stdout",
          "text": [
            "{1: 'name', 2: 'age', 3: 'course', 4: 'scores', 0: 'Id', 5: 'gender'}\n"
          ]
        }
      ]
    },
    {
      "cell_type": "markdown",
      "source": [
        "Delete"
      ],
      "metadata": {
        "id": "4Nxw6uTsWuBs"
      }
    },
    {
      "cell_type": "code",
      "source": [
        "d2 = {1: 'name', 2: 'age', 3: 'course', 4: 'scores', 0: 'Id', 5: 'gender'}\n",
        "\n",
        "d2.pop(5)\n",
        "print(d2)\n",
        "\n",
        "d2.popitem() # LIFO\n",
        "print(d2)\n",
        "\n",
        "d2.popitem()\n",
        "print(d2)\n",
        "\n",
        "del d2[2]\n",
        "print(d2)\n",
        "\n",
        "d2.clear()\n",
        "print(d2)\n",
        "\n",
        "del d2"
      ],
      "metadata": {
        "colab": {
          "base_uri": "https://localhost:8080/"
        },
        "id": "mBLlszEBWuMR",
        "outputId": "490fef7d-0ab7-4a02-93a6-4be9c7b3f175"
      },
      "execution_count": null,
      "outputs": [
        {
          "output_type": "stream",
          "name": "stdout",
          "text": [
            "{1: 'name', 2: 'age', 3: 'course', 4: 'scores', 0: 'Id'}\n",
            "{1: 'name', 2: 'age', 3: 'course', 4: 'scores'}\n",
            "{1: 'name', 2: 'age', 3: 'course'}\n",
            "{1: 'name', 3: 'course'}\n",
            "{}\n"
          ]
        }
      ]
    },
    {
      "cell_type": "markdown",
      "source": [
        "Operations"
      ],
      "metadata": {
        "id": "zrEWTCucWuXo"
      }
    },
    {
      "cell_type": "code",
      "source": [
        "d2 = {1: 'name', 2: 'age', 3: 'course', 4: 'scores', 0: 'Id', 5: 'gender'}\n",
        "\n",
        "print(1 in d2)\n",
        "print('name' in d2)\n",
        "\n",
        "d3 = {'name': 'nitish', 'college': 'bit', 'sem': 5, 'subjects': {'dsa': 80, 'english': 34, 'ds': 75}}\n",
        "\n",
        "print('subjects' in d3)\n",
        "print('dsa' in 'subjects') # returns false as subjects is a key and not dictionary."
      ],
      "metadata": {
        "colab": {
          "base_uri": "https://localhost:8080/"
        },
        "id": "YWHa9AzvWukQ",
        "outputId": "6e51e2f5-c5f6-4bff-abdf-44ef39a06522"
      },
      "execution_count": null,
      "outputs": [
        {
          "output_type": "stream",
          "name": "stdout",
          "text": [
            "True\n",
            "False\n",
            "True\n",
            "False\n"
          ]
        }
      ]
    },
    {
      "cell_type": "markdown",
      "source": [
        "Functions"
      ],
      "metadata": {
        "id": "88Y7o5p6Wuvq"
      }
    },
    {
      "cell_type": "code",
      "source": [
        "d1 = {1:'tuple',1.2 : 3.4,True:[1,2,3]}\n",
        "len(d1)\n",
        "\n",
        "# all the below functions works on keys\n",
        "print(min(d1))\n",
        "print(max(d1))\n",
        "print(sorted(d1,reverse=True))\n",
        "# d1 = {(1,2,3):'tuple',1.2 : 3.4,True:[1,2,3],0:'zero'}\n",
        "# print(any(d1))\n",
        "# print(all(d1))"
      ],
      "metadata": {
        "colab": {
          "base_uri": "https://localhost:8080/"
        },
        "id": "tdPOi-NrWvBm",
        "outputId": "f37ec993-1c1c-481a-b667-73fef077f518"
      },
      "execution_count": null,
      "outputs": [
        {
          "output_type": "stream",
          "name": "stdout",
          "text": [
            "1\n",
            "1.2\n",
            "[1.2, 1]\n"
          ]
        }
      ]
    },
    {
      "cell_type": "code",
      "source": [
        "x,y = tuple(int(num) for num in (input(\"Enter 2 numbers : \")).split(\" \"))\n",
        "print(x,type(x))\n",
        "print(y,type(y))"
      ],
      "metadata": {
        "colab": {
          "base_uri": "https://localhost:8080/"
        },
        "id": "SFPqBG9fjhUL",
        "outputId": "d5bf3ba7-8154-499e-9fc6-0f2065fd6917"
      },
      "execution_count": null,
      "outputs": [
        {
          "output_type": "stream",
          "name": "stdout",
          "text": [
            "Enter 2 numbers : 45 67\n",
            "45 <class 'int'>\n",
            "67 <class 'int'>\n"
          ]
        }
      ]
    },
    {
      "cell_type": "code",
      "source": [
        "x = 1234\n",
        "while x > 0:\n",
        "  a = x%10\n",
        "  b = b* 10 + a\n",
        "  x = x//10\n",
        "\n",
        "print(b)"
      ],
      "metadata": {
        "colab": {
          "base_uri": "https://localhost:8080/",
          "height": 245
        },
        "id": "NYpZfjXlR9ZW",
        "outputId": "69289bd3-afb1-4016-e422-fbf234ed92e2"
      },
      "execution_count": null,
      "outputs": [
        {
          "output_type": "error",
          "ename": "NameError",
          "evalue": "ignored",
          "traceback": [
            "\u001b[0;31m---------------------------------------------------------------------------\u001b[0m",
            "\u001b[0;31mNameError\u001b[0m                                 Traceback (most recent call last)",
            "\u001b[0;32m<ipython-input-1-8b3c2f94efea>\u001b[0m in \u001b[0;36m<cell line: 2>\u001b[0;34m()\u001b[0m\n\u001b[1;32m      2\u001b[0m \u001b[0;32mwhile\u001b[0m \u001b[0mx\u001b[0m \u001b[0;34m>\u001b[0m \u001b[0;36m0\u001b[0m\u001b[0;34m:\u001b[0m\u001b[0;34m\u001b[0m\u001b[0;34m\u001b[0m\u001b[0m\n\u001b[1;32m      3\u001b[0m   \u001b[0ma\u001b[0m \u001b[0;34m=\u001b[0m \u001b[0mx\u001b[0m\u001b[0;34m%\u001b[0m\u001b[0;36m10\u001b[0m\u001b[0;34m\u001b[0m\u001b[0;34m\u001b[0m\u001b[0m\n\u001b[0;32m----> 4\u001b[0;31m   \u001b[0mb\u001b[0m \u001b[0;34m=\u001b[0m \u001b[0mb\u001b[0m\u001b[0;34m*\u001b[0m \u001b[0;36m10\u001b[0m \u001b[0;34m+\u001b[0m \u001b[0ma\u001b[0m\u001b[0;34m\u001b[0m\u001b[0;34m\u001b[0m\u001b[0m\n\u001b[0m\u001b[1;32m      5\u001b[0m   \u001b[0mx\u001b[0m \u001b[0;34m=\u001b[0m \u001b[0mx\u001b[0m\u001b[0;34m//\u001b[0m\u001b[0;36m10\u001b[0m\u001b[0;34m\u001b[0m\u001b[0;34m\u001b[0m\u001b[0m\n\u001b[1;32m      6\u001b[0m \u001b[0;34m\u001b[0m\u001b[0m\n",
            "\u001b[0;31mNameError\u001b[0m: name 'b' is not defined"
          ]
        }
      ]
    },
    {
      "cell_type": "code",
      "source": [
        "[1,2,3].reverse"
      ],
      "metadata": {
        "id": "-F5FxbQqSF2l"
      },
      "execution_count": null,
      "outputs": []
    },
    {
      "cell_type": "code",
      "source": [
        "li = [1,2,3,4,5]\n",
        "N = 2\n",
        "rev_list = [ele ** 3 if ele % N == 0 else ele for ele in li ]\n",
        "print(rev_list)"
      ],
      "metadata": {
        "colab": {
          "base_uri": "https://localhost:8080/"
        },
        "id": "RnZencsqSk9C",
        "outputId": "351d3dca-d322-4229-a8d5-ca6f6fcc3e75"
      },
      "execution_count": null,
      "outputs": [
        {
          "output_type": "stream",
          "name": "stdout",
          "text": [
            "[1, 8, 3, 64, 5]\n"
          ]
        }
      ]
    },
    {
      "cell_type": "code",
      "source": [
        "arr = list(map(int,input().split(\" \")))\n",
        "print(arr)"
      ],
      "metadata": {
        "colab": {
          "base_uri": "https://localhost:8080/"
        },
        "id": "SnlHjkbWeNUV",
        "outputId": "b613a78c-db64-4f29-955d-3cf75b96d2f3"
      },
      "execution_count": null,
      "outputs": [
        {
          "output_type": "stream",
          "name": "stdout",
          "text": [
            "1 2 3 4 5\n",
            "[1, 2, 3, 4, 5]\n"
          ]
        }
      ]
    },
    {
      "cell_type": "code",
      "source": [
        "arr.extend(2)\n",
        "print(arr)"
      ],
      "metadata": {
        "colab": {
          "base_uri": "https://localhost:8080/",
          "height": 193
        },
        "id": "Ff6davLsgIxE",
        "outputId": "59804b76-d986-4589-c6d7-bf5e10b29379"
      },
      "execution_count": null,
      "outputs": [
        {
          "output_type": "error",
          "ename": "TypeError",
          "evalue": "ignored",
          "traceback": [
            "\u001b[0;31m---------------------------------------------------------------------------\u001b[0m",
            "\u001b[0;31mTypeError\u001b[0m                                 Traceback (most recent call last)",
            "\u001b[0;32m<ipython-input-5-c27d8c230ba7>\u001b[0m in \u001b[0;36m<cell line: 1>\u001b[0;34m()\u001b[0m\n\u001b[0;32m----> 1\u001b[0;31m \u001b[0marr\u001b[0m\u001b[0;34m.\u001b[0m\u001b[0mextend\u001b[0m\u001b[0;34m(\u001b[0m\u001b[0;36m2\u001b[0m\u001b[0;34m)\u001b[0m\u001b[0;34m\u001b[0m\u001b[0;34m\u001b[0m\u001b[0m\n\u001b[0m\u001b[1;32m      2\u001b[0m \u001b[0mprint\u001b[0m\u001b[0;34m(\u001b[0m\u001b[0marr\u001b[0m\u001b[0;34m)\u001b[0m\u001b[0;34m\u001b[0m\u001b[0;34m\u001b[0m\u001b[0m\n",
            "\u001b[0;31mTypeError\u001b[0m: 'int' object is not iterable"
          ]
        }
      ]
    },
    {
      "cell_type": "code",
      "source": [
        "arr = [10,[40,20],30,50]\n",
        "\n",
        "print(res_arr)"
      ],
      "metadata": {
        "colab": {
          "base_uri": "https://localhost:8080/"
        },
        "id": "myHC1ylIndVd",
        "outputId": "09a3df9e-96aa-46d3-d3da-0db72f27225e"
      },
      "execution_count": null,
      "outputs": [
        {
          "output_type": "stream",
          "name": "stdout",
          "text": [
            "[10, 20, 30, 40, 50]\n"
          ]
        }
      ]
    },
    {
      "cell_type": "code",
      "source": [
        "def flatten(arr):\n",
        "  res_arr = []\n",
        "\n",
        "  for ele in arr:\n",
        "    if isinstance(ele, list):\n",
        "      res_arr.extend(flatten(ele))\n",
        "    else:\n",
        "      res_arr.append(ele)\n",
        "  res_arr = sorted(res_arr,reverse=False)\n",
        "  return res_arr\n",
        "\n",
        "flatten([10,[40,20],30,50])"
      ],
      "metadata": {
        "colab": {
          "base_uri": "https://localhost:8080/"
        },
        "id": "Bk5tLnjCoGQ7",
        "outputId": "2a5b093d-e678-4d78-8908-e0bac96174c5"
      },
      "execution_count": null,
      "outputs": [
        {
          "output_type": "execute_result",
          "data": {
            "text/plain": [
              "[10, 20, 30, 40, 50]"
            ]
          },
          "metadata": {},
          "execution_count": 9
        }
      ]
    },
    {
      "cell_type": "code",
      "source": [
        "330.0000000000000001 / 1"
      ],
      "metadata": {
        "colab": {
          "base_uri": "https://localhost:8080/"
        },
        "id": "fU9d22VLo7Da",
        "outputId": "a7bdc094-e026-43e7-9981-0c38c995a6e8"
      },
      "execution_count": null,
      "outputs": [
        {
          "output_type": "execute_result",
          "data": {
            "text/plain": [
              "330.0"
            ]
          },
          "metadata": {},
          "execution_count": 15
        }
      ]
    },
    {
      "cell_type": "code",
      "source": [
        "Menu = [['Sweet corn',300],['cream tomato',100],['tacos',150]]\n",
        "\n",
        "for item in Menu:\n",
        "  if item[0] in ['Sweet corn','tacos']:\n",
        "    item[1] = (item[1] * 1.1)\n",
        "    print(item[1])\n",
        "    item[1] = (item[1] * 1.1) // 1\n",
        "    print(item[1])\n",
        "\n",
        "print(Menu)"
      ],
      "metadata": {
        "colab": {
          "base_uri": "https://localhost:8080/"
        },
        "id": "XtkYXuwZtZcK",
        "outputId": "c21e4006-adec-4876-b4a8-743e3b7fefee"
      },
      "execution_count": null,
      "outputs": [
        {
          "output_type": "stream",
          "name": "stdout",
          "text": [
            "330.0\n",
            "363.0\n",
            "165.0\n",
            "181.0\n",
            "[['Sweet corn', 363.0], ['cream tomato', 100], ['tacos', 181.0]]\n"
          ]
        }
      ]
    },
    {
      "cell_type": "code",
      "source": [
        "score = 2\n",
        "if False:\n",
        "  score = 66\n",
        "\n",
        "def batting():\n",
        "  if True:\n",
        "    score = 40\n",
        "\n",
        "batting()\n",
        "print(score)"
      ],
      "metadata": {
        "colab": {
          "base_uri": "https://localhost:8080/"
        },
        "id": "uEeNrJjSuA7w",
        "outputId": "3666db18-6ec2-450d-ba17-f4835dd69792"
      },
      "execution_count": null,
      "outputs": [
        {
          "output_type": "stream",
          "name": "stdout",
          "text": [
            "2\n"
          ]
        }
      ]
    },
    {
      "cell_type": "code",
      "source": [
        "arr = [a+\" \"+b for a in ['Hello','Good'] for b in ['Dear','Bye']]\n",
        "print(arr)"
      ],
      "metadata": {
        "colab": {
          "base_uri": "https://localhost:8080/"
        },
        "id": "eOuqoHgawkxe",
        "outputId": "d80a0c9f-9ccb-4bfd-e89b-e45ea791d3a3"
      },
      "execution_count": null,
      "outputs": [
        {
          "output_type": "stream",
          "name": "stdout",
          "text": [
            "['Hello Dear', 'Hello Bye', 'Good Dear', 'Good Bye']\n"
          ]
        }
      ]
    },
    {
      "cell_type": "code",
      "source": [
        "max([[1,2,6],[4,5,0],[]],key = sum)"
      ],
      "metadata": {
        "colab": {
          "base_uri": "https://localhost:8080/"
        },
        "id": "A5aavYTZygsR",
        "outputId": "ce49493e-52c2-433f-b5ef-fd4c724b22aa"
      },
      "execution_count": null,
      "outputs": [
        {
          "output_type": "execute_result",
          "data": {
            "text/plain": [
              "[1, 2, 6]"
            ]
          },
          "metadata": {},
          "execution_count": 19
        }
      ]
    },
    {
      "cell_type": "code",
      "source": [
        "var =1\n",
        "def ML():\n",
        "\n",
        "  print(var)\n",
        "\n",
        "ML()\n",
        "print('outside',var)"
      ],
      "metadata": {
        "colab": {
          "base_uri": "https://localhost:8080/"
        },
        "id": "FTFU57jw0raq",
        "outputId": "b82b66be-9890-4a2e-eb95-6d7d11c614bf"
      },
      "execution_count": null,
      "outputs": [
        {
          "output_type": "stream",
          "name": "stdout",
          "text": [
            "1\n",
            "outside 1\n"
          ]
        }
      ]
    },
    {
      "cell_type": "code",
      "source": [
        "li = [(0,2),(1,3),(2,4)]\n",
        "result = sum(n for _,n in li)\n",
        "print(result)"
      ],
      "metadata": {
        "id": "xeSf_wIv17Oh",
        "colab": {
          "base_uri": "https://localhost:8080/"
        },
        "outputId": "4e2a1774-df0b-41f3-f492-3d12c0acf05f"
      },
      "execution_count": null,
      "outputs": [
        {
          "output_type": "stream",
          "name": "stdout",
          "text": [
            "9\n"
          ]
        }
      ]
    },
    {
      "cell_type": "code",
      "source": [
        "a = index(\"aaabbccc\")\n",
        "a=\"\".join(a)\n",
        "print(a)"
      ],
      "metadata": {
        "colab": {
          "base_uri": "https://localhost:8080/",
          "height": 210
        },
        "id": "Xuv5gxVulIa_",
        "outputId": "e227f912-7f67-4c14-9810-3ffcee3ad23c"
      },
      "execution_count": null,
      "outputs": [
        {
          "output_type": "error",
          "ename": "NameError",
          "evalue": "ignored",
          "traceback": [
            "\u001b[0;31m---------------------------------------------------------------------------\u001b[0m",
            "\u001b[0;31mNameError\u001b[0m                                 Traceback (most recent call last)",
            "\u001b[0;32m<ipython-input-3-eda0d2c0d303>\u001b[0m in \u001b[0;36m<cell line: 1>\u001b[0;34m()\u001b[0m\n\u001b[0;32m----> 1\u001b[0;31m \u001b[0ma\u001b[0m \u001b[0;34m=\u001b[0m \u001b[0mindex\u001b[0m\u001b[0;34m(\u001b[0m\u001b[0;34m\"aaabbccc\"\u001b[0m\u001b[0;34m)\u001b[0m\u001b[0;34m\u001b[0m\u001b[0;34m\u001b[0m\u001b[0m\n\u001b[0m\u001b[1;32m      2\u001b[0m \u001b[0ma\u001b[0m\u001b[0;34m=\u001b[0m\u001b[0;34m\"\"\u001b[0m\u001b[0;34m.\u001b[0m\u001b[0mjoin\u001b[0m\u001b[0;34m(\u001b[0m\u001b[0ma\u001b[0m\u001b[0;34m)\u001b[0m\u001b[0;34m\u001b[0m\u001b[0;34m\u001b[0m\u001b[0m\n\u001b[1;32m      3\u001b[0m \u001b[0mprint\u001b[0m\u001b[0;34m(\u001b[0m\u001b[0ma\u001b[0m\u001b[0;34m)\u001b[0m\u001b[0;34m\u001b[0m\u001b[0;34m\u001b[0m\u001b[0m\n",
            "\u001b[0;31mNameError\u001b[0m: name 'index' is not defined"
          ]
        }
      ]
    },
    {
      "cell_type": "code",
      "source": [
        "s = \"Hey man!! Its \"\n",
        "\n",
        "res = \"\"\n",
        "\n",
        "s = s.strip()\n",
        "\n",
        "for i in range(len(s)-1,0,-1):\n",
        "  if s[i] != \"\":\n",
        "    res = res + s[i]\n",
        "\n",
        "print(res)"
      ],
      "metadata": {
        "colab": {
          "base_uri": "https://localhost:8080/"
        },
        "id": "Wf7abgp_l9CV",
        "outputId": "35d62b23-889d-48ec-8fd1-de5a1d84244e"
      },
      "execution_count": null,
      "outputs": [
        {
          "output_type": "stream",
          "name": "stdout",
          "text": [
            "stI !!nam ye\n"
          ]
        }
      ]
    },
    {
      "cell_type": "code",
      "source": [
        "arr = [(1,2),(2,3),(2,3),(1,2),(5,6)]\n",
        "\n",
        "li = [(a,b) for i,[a,b] in enumerate(arr) if not any ((d ==b and a==c) for c,d in arr[:i])]\n",
        "print(li)"
      ],
      "metadata": {
        "colab": {
          "base_uri": "https://localhost:8080/"
        },
        "id": "DwcUfIdA2uyc",
        "outputId": "3b66414b-07b9-4636-dcff-0dd03963cd28"
      },
      "execution_count": null,
      "outputs": [
        {
          "output_type": "stream",
          "name": "stdout",
          "text": [
            "[(1, 2), (2, 3), (5, 6)]\n"
          ]
        }
      ]
    },
    {
      "cell_type": "code",
      "source": [
        "str1 = \"PYcharm3\"\n",
        "print(str1[1:4], str1[:5], str1[-6:], str1[0:-1], str1[:-1])"
      ],
      "metadata": {
        "colab": {
          "base_uri": "https://localhost:8080/"
        },
        "id": "fxdy7wM67THV",
        "outputId": "2b37bd3e-212f-4150-94fa-90033f2188e0"
      },
      "execution_count": null,
      "outputs": [
        {
          "output_type": "stream",
          "name": "stdout",
          "text": [
            "Ych PYcha charm3 PYcharm PYcharm\n"
          ]
        }
      ]
    },
    {
      "cell_type": "code",
      "source": [
        "def countuniquewords(inp):\n",
        "    ans = 0\n",
        "    arr = list(inp.split())\n",
        "    for word in arr:\n",
        "        arr2=[]\n",
        "        if len(tuple(word)) == len(word) and len(word) > 3:\n",
        "            ans += 1\n",
        "    return ans"
      ],
      "metadata": {
        "id": "2By5u3TX8Lpq"
      },
      "execution_count": null,
      "outputs": []
    },
    {
      "cell_type": "code",
      "source": [
        "countuniquewords(\"inps abccddf hghff asdf\")"
      ],
      "metadata": {
        "colab": {
          "base_uri": "https://localhost:8080/"
        },
        "id": "mhsKjQ-Y8o2_",
        "outputId": "6c9d761e-09c1-4abd-a746-fd733c62341b"
      },
      "execution_count": null,
      "outputs": [
        {
          "output_type": "execute_result",
          "data": {
            "text/plain": [
              "2"
            ]
          },
          "metadata": {},
          "execution_count": 16
        }
      ]
    },
    {
      "cell_type": "code",
      "source": [
        "def club_entry(ids):\n",
        "  age_list = [2022 - int(string[1:5]) for string in ids] #blank1\n",
        "  entry = []\n",
        "  for i in age_list:\n",
        "    if  i > 18:                 #blank2\n",
        "      entry.append('You can Enter')\n",
        "    else:\n",
        "      entry.append('No Entry for you')\n",
        "  return entry"
      ],
      "metadata": {
        "id": "IFxFu-ma8yTK"
      },
      "execution_count": null,
      "outputs": []
    },
    {
      "cell_type": "code",
      "source": [
        "club_entry(['M2004Sam', 'F2001Riya', 'M1998Ani', 'F2005Diya'])"
      ],
      "metadata": {
        "colab": {
          "base_uri": "https://localhost:8080/"
        },
        "id": "o40pjWYs-WVa",
        "outputId": "8b4cb6f9-2655-45d7-9cea-0ef9ad4209f8"
      },
      "execution_count": null,
      "outputs": [
        {
          "output_type": "execute_result",
          "data": {
            "text/plain": [
              "['No Entry for you', 'You can Enter', 'You can Enter', 'No Entry for you']"
            ]
          },
          "metadata": {},
          "execution_count": 20
        }
      ]
    },
    {
      "cell_type": "code",
      "source": [],
      "metadata": {
        "id": "6UOh90Ry_gSE"
      },
      "execution_count": null,
      "outputs": []
    }
  ]
}